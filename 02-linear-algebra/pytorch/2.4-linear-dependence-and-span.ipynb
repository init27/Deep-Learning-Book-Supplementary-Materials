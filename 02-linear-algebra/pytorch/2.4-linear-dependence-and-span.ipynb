{
 "cells": [
  {
   "cell_type": "markdown",
   "metadata": {},
   "source": [
    "## 2.4 Linear Dependence and Span"
   ]
  },
  {
   "cell_type": "markdown",
   "metadata": {},
   "source": [
    "For `A^-1` to exist the equation `Ax = b` must have exactly one solution for every value of `b`.  \n",
    "It is also possible for the system of equations to have no solution or infinitely many solutions for some \\\n",
    "values of `b`."
   ]
  },
  {
   "cell_type": "code",
   "execution_count": 1,
   "metadata": {},
   "outputs": [],
   "source": [
    "import torch"
   ]
  },
  {
   "cell_type": "code",
   "execution_count": 2,
   "metadata": {},
   "outputs": [],
   "source": [
    "A = torch.randn(2, 3, 3)\n",
    "b = torch.randn(3, 1)\n",
    "x = torch.linalg.solve(A, b)"
   ]
  },
  {
   "cell_type": "code",
   "execution_count": 3,
   "metadata": {},
   "outputs": [
    {
     "name": "stdout",
     "output_type": "stream",
     "text": [
      "Matrix A: \n",
      "tensor([[[ 0.8261, -1.3230,  0.7334],\n",
      "         [ 0.4653, -0.8757, -0.1822],\n",
      "         [-0.4040, -0.0922,  0.3706]],\n",
      "\n",
      "        [[ 0.4952, -0.8889, -1.2967],\n",
      "         [-1.4212,  0.2438,  0.7049],\n",
      "         [ 0.2650,  0.2260,  0.3242]]])\n",
      "\n",
      "Vector b: \n",
      "tensor([[ 1.1666],\n",
      "        [ 2.0487],\n",
      "        [-0.4740]])\n",
      "\n",
      "Solution of Ax = b: \n",
      "tensor([[[-0.1112],\n",
      "         [-2.0037],\n",
      "         [-1.8987]],\n",
      "\n",
      "        [[-0.3782],\n",
      "         [-9.3851],\n",
      "         [ 5.3897]]])\n"
     ]
    }
   ],
   "source": [
    "print(f\"Matrix A: \\n{A}\")\n",
    "print(f\"\\nVector b: \\n{b}\")\n",
    "\n",
    "print(f\"\\nSolution of Ax = b: \\n{x}\")"
   ]
  },
  {
   "cell_type": "markdown",
   "metadata": {},
   "source": [
    "---"
   ]
  },
  {
   "cell_type": "markdown",
   "metadata": {},
   "source": [
    "**Additional Resources**\n",
    "- [3Blue1Brown Video](https://www.youtube.com/watch?v=k7RM-ot2NWY)\n",
    "- [Prof. Gilbert Strang Lecture](https://www.youtube.com/watch?v=eeMJg4uI7o0)"
   ]
  },
  {
   "cell_type": "markdown",
   "metadata": {},
   "source": [
    "---"
   ]
  }
 ],
 "metadata": {
  "kernelspec": {
   "display_name": "Python 3.8.15 ('ml')",
   "language": "python",
   "name": "python3"
  },
  "language_info": {
   "codemirror_mode": {
    "name": "ipython",
    "version": 3
   },
   "file_extension": ".py",
   "mimetype": "text/x-python",
   "name": "python",
   "nbconvert_exporter": "python",
   "pygments_lexer": "ipython3",
   "version": "3.8.15"
  },
  "orig_nbformat": 4,
  "vscode": {
   "interpreter": {
    "hash": "7fbb7bc7656f6be0ea30baeef166ae9c5110869b59dc75fa6c387b1b2aec8c5a"
   }
  }
 },
 "nbformat": 4,
 "nbformat_minor": 2
}
