{
 "cells": [
  {
   "cell_type": "markdown",
   "metadata": {},
   "source": [
    "## Special Kinds of Matrices and Tensors"
   ]
  },
  {
   "cell_type": "markdown",
   "metadata": {},
   "source": [
    "**Diagonal Matrix**\n",
    "- A diagonal matrix consists mostly of zeros and have nonzero entries only along the main diagonal.\n",
    "- Identity matrix is a diagonal matrix."
   ]
  },
  {
   "cell_type": "code",
   "execution_count": 1,
   "metadata": {},
   "outputs": [],
   "source": [
    "import torch"
   ]
  },
  {
   "cell_type": "code",
   "execution_count": 2,
   "metadata": {},
   "outputs": [
    {
     "name": "stdout",
     "output_type": "stream",
     "text": [
      "Vector x: \n",
      "tensor([2, 4, 6])\n",
      "\n",
      "Diagonal Matrix A: \n",
      "tensor([[2, 0, 0],\n",
      "        [0, 4, 0],\n",
      "        [0, 0, 6]])\n"
     ]
    }
   ],
   "source": [
    "# Vector containing entries for the diagonal matrix A\n",
    "x = torch.tensor([2, 4, 6])\n",
    "\n",
    "# Defining a diagonal matrix A \n",
    "A = torch.diag(x)\n",
    "\n",
    "print(f\"Vector x: \\n{x}\")\n",
    "print(f\"\\nDiagonal Matrix A: \\n{A}\")"
   ]
  },
  {
   "cell_type": "markdown",
   "metadata": {},
   "source": [
    "---"
   ]
  },
  {
   "cell_type": "markdown",
   "metadata": {},
   "source": [
    "**Symmetric Matrix**\n",
    "- A symmetric matrix is any matrix that is equal to its own transpose."
   ]
  },
  {
   "cell_type": "code",
   "execution_count": 3,
   "metadata": {},
   "outputs": [
    {
     "name": "stdout",
     "output_type": "stream",
     "text": [
      "Matrix A: \n",
      "tensor([[1, 4, 5],\n",
      "        [4, 2, 6],\n",
      "        [5, 6, 3]])\n",
      "\n",
      "A_transpose: \n",
      "tensor([[1, 4, 5],\n",
      "        [4, 2, 6],\n",
      "        [5, 6, 3]])\n",
      "\n",
      "Matrix A is Symmetric: True\n"
     ]
    }
   ],
   "source": [
    "# Define a matrix\n",
    "\n",
    "A = torch.tensor([\n",
    "    [1, 4, 5],\n",
    "    [4, 2, 6],\n",
    "    [5, 6, 3]\n",
    "])\n",
    "\n",
    "# Take the transpose\n",
    "A_transpose = torch.transpose(A, 0, 1)\n",
    "\n",
    "# Check if both are equal, if yes then the matrix is symmetric\n",
    "\n",
    "print(f\"Matrix A: \\n{A}\")\n",
    "print(f\"\\nA_transpose: \\n{A_transpose}\")\n",
    "\n",
    "print(f\"\\nMatrix A is Symmetric: {torch.equal(A, A_transpose)}\")"
   ]
  },
  {
   "cell_type": "markdown",
   "metadata": {},
   "source": [
    "---"
   ]
  },
  {
   "cell_type": "markdown",
   "metadata": {},
   "source": [
    "**Unit Vector**\n",
    "- A Unit Vector is a vector with Unit Norm."
   ]
  },
  {
   "cell_type": "code",
   "execution_count": 4,
   "metadata": {},
   "outputs": [
    {
     "name": "stdout",
     "output_type": "stream",
     "text": [
      "L2 Norm of unit vector u: 1.0\n",
      "u is a unit vector: True\n"
     ]
    }
   ],
   "source": [
    "# Define a unit vector\n",
    "u = torch.tensor([1], dtype = float)\n",
    "\n",
    "# Calculate the L2 Norm \n",
    "l2_norm = torch.linalg.vector_norm(u, ord = 2)\n",
    "\n",
    "print(f\"L2 Norm of unit vector u: {l2_norm}\")\n",
    "print(f\"u is a unit vector: {l2_norm == 1}\")"
   ]
  },
  {
   "cell_type": "markdown",
   "metadata": {},
   "source": [
    "---"
   ]
  },
  {
   "cell_type": "markdown",
   "metadata": {},
   "source": [
    "**Orthogonal Vectors**\n",
    "- A vector `x` and a vector `y` are orthogonal to each other if $$x^T y = 0$$  \n",
    "- If both vectors have a non zero norm, this means that they are at a 90 degree angle to each other."
   ]
  },
  {
   "cell_type": "code",
   "execution_count": 5,
   "metadata": {},
   "outputs": [
    {
     "name": "stdout",
     "output_type": "stream",
     "text": [
      "x^T y: 0.0\n"
     ]
    }
   ],
   "source": [
    "# Define 2 vectors\n",
    "x = torch.tensor([1, 2], dtype=float)\n",
    "y = torch.tensor([2, -1], dtype=float)\n",
    "\n",
    "# Obtain x_transpose\n",
    "x_transpose = torch.t(x)\n",
    "\n",
    "# Calculate x^T y\n",
    "print(f\"x^T y: {torch.dot(x_transpose, y)}\")"
   ]
  },
  {
   "cell_type": "markdown",
   "metadata": {},
   "source": [
    "Thus `x` and `y` are orthogonal vectors."
   ]
  },
  {
   "cell_type": "markdown",
   "metadata": {},
   "source": [
    "You can find additional examples for othogonal vectors [here](https://www.storyofmathematics.com/orthogona-vector/)."
   ]
  },
  {
   "cell_type": "markdown",
   "metadata": {},
   "source": [
    "---"
   ]
  },
  {
   "cell_type": "markdown",
   "metadata": {},
   "source": [
    "**Orthonormal Vectors**\n",
    "- If the vectors, not only are orthogonal but also have unit norm we call them orthonormal.\n",
    "- Now that we know that the vectors `x` and `y` are orthogonal, we can obtain the orthonormal vectors \\\n",
    "by normalizing the vectors to have magnitude of 1."
   ]
  },
  {
   "cell_type": "code",
   "execution_count": 6,
   "metadata": {},
   "outputs": [
    {
     "name": "stdout",
     "output_type": "stream",
     "text": [
      "Following are the Orthonormal vectors\n",
      "\n",
      "x_normalized: \n",
      "tensor([0.4472, 0.8944], dtype=torch.float64)\n",
      "\n",
      "y_normalized: \n",
      "tensor([ 0.8944, -0.4472], dtype=torch.float64)\n"
     ]
    }
   ],
   "source": [
    "x_normalized = x / (torch.linalg.vector_norm(x, ord = 2))\n",
    "y_normalized = y / (torch.linalg.vector_norm(y, ord = 2))\n",
    "\n",
    "print(f\"Following are the Orthonormal vectors\")\n",
    "print(f\"\\nx_normalized: \\n{x_normalized}\")\n",
    "print(f\"\\ny_normalized: \\n{y_normalized}\")"
   ]
  },
  {
   "cell_type": "markdown",
   "metadata": {},
   "source": [
    "Learn more [here](https://www.ucl.ac.uk/~ucahmdl/LessonPlans/Lesson10.pdf)"
   ]
  },
  {
   "cell_type": "markdown",
   "metadata": {},
   "source": [
    "---"
   ]
  },
  {
   "cell_type": "markdown",
   "metadata": {},
   "source": [
    "**Orthogonal Matrix**\n",
    "- An orthogonal matrix is a square matrix whose rows are mutually orthonormal and whose columns are mutually orthonormal.\n",
    "$$A^TA = AA^T = I$$\n",
    "- This implies that\n",
    "$$A^{-1}=A^T$$"
   ]
  },
  {
   "cell_type": "code",
   "execution_count": 7,
   "metadata": {},
   "outputs": [
    {
     "name": "stdout",
     "output_type": "stream",
     "text": [
      "A^T A: \n",
      "tensor([[1., 0.],\n",
      "        [0., 1.]], dtype=torch.float64)\n",
      "\n",
      "A A^T: \n",
      "tensor([[1., 0.],\n",
      "        [0., 1.]], dtype=torch.float64)\n",
      "\n",
      "Identity Matrix: \n",
      "tensor([[1., 0.],\n",
      "        [0., 1.]])\n"
     ]
    }
   ],
   "source": [
    "A = torch.tensor([\n",
    "    [-1, 0],\n",
    "    [0, 1]\n",
    "    ],\n",
    "    dtype=float\n",
    ")\n",
    "\n",
    "A_transpose = torch.transpose(A, 0, 1)\n",
    "\n",
    "print(f\"A^T A: \\n{torch.matmul(A_transpose, A)}\")\n",
    "print(f\"\\nA A^T: \\n{torch.matmul(A, A_transpose)}\")\n",
    "print(f\"\\nIdentity Matrix: \\n{torch.eye(2)}\")"
   ]
  },
  {
   "cell_type": "markdown",
   "metadata": {},
   "source": [
    "Thus the above equation holds, and the matrix `A` is an orthogonal matrix.  \n",
    "\n",
    "---\n",
    "\n",
    "**Additional Resources**\n",
    "- [Examples](https://byjus.com/maths/orthogonal-matrix/#orthogonal-matrix)\n",
    "- [Prof Gilbert Strang Lecture](https://www.youtube.com/watch?v=0MtwqhIwdrI)\n",
    "- [Khan Academy Tutorial](https://www.youtube.com/watch?v=yDwIfYjKEeo)"
   ]
  },
  {
   "cell_type": "markdown",
   "metadata": {},
   "source": [
    "---"
   ]
  }
 ],
 "metadata": {
  "kernelspec": {
   "display_name": "Python 3.8.15 ('ml')",
   "language": "python",
   "name": "python3"
  },
  "language_info": {
   "codemirror_mode": {
    "name": "ipython",
    "version": 3
   },
   "file_extension": ".py",
   "mimetype": "text/x-python",
   "name": "python",
   "nbconvert_exporter": "python",
   "pygments_lexer": "ipython3",
   "version": "3.8.15"
  },
  "orig_nbformat": 4,
  "vscode": {
   "interpreter": {
    "hash": "7fbb7bc7656f6be0ea30baeef166ae9c5110869b59dc75fa6c387b1b2aec8c5a"
   }
  }
 },
 "nbformat": 4,
 "nbformat_minor": 2
}
