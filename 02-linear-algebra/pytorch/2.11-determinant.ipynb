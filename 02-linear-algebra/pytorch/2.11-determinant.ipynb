{
 "cells": [
  {
   "cell_type": "markdown",
   "metadata": {},
   "source": [
    "## 2.11 Determinant"
   ]
  },
  {
   "cell_type": "markdown",
   "metadata": {},
   "source": [
    "- The determinant of a square matrix, denoted `det(A)`, is a function that maps matrices to real scalars.\n",
    "- The determinant is equal to the product of all the eigenvalues of the matrix."
   ]
  },
  {
   "cell_type": "code",
   "execution_count": 1,
   "metadata": {},
   "outputs": [],
   "source": [
    "import torch"
   ]
  },
  {
   "cell_type": "code",
   "execution_count": 2,
   "metadata": {},
   "outputs": [
    {
     "name": "stdout",
     "output_type": "stream",
     "text": [
      "Matrix A: \n",
      "tensor([[3., 8.],\n",
      "        [4., 6.]], dtype=torch.float64)\n",
      "\n",
      "Determinant of A: -14.0\n"
     ]
    }
   ],
   "source": [
    "A = torch.tensor([\n",
    "    [3, 8],\n",
    "    [4, 6]\n",
    "], dtype=float)\n",
    "\n",
    "det_A = torch.linalg.det(A)\n",
    "\n",
    "print(f\"Matrix A: \\n{A}\")\n",
    "print(f\"\\nDeterminant of A: {det_A}\")"
   ]
  },
  {
   "cell_type": "markdown",
   "metadata": {},
   "source": [
    "---"
   ]
  },
  {
   "cell_type": "markdown",
   "metadata": {},
   "source": [
    "**Additional Resources**\n",
    "- [Mathematical Calculation for given example](https://www.mathsisfun.com/algebra/matrix-determinant.html)\n",
    "- [3Blue1Brown Video](https://www.youtube.com/watch?v=Ip3X9LOh2dk)\n",
    "- [Prof. Gilbert Strang Lecture](https://www.youtube.com/watch?v=23LLB9mNJvc)\n",
    "\n",
    "---"
   ]
  }
 ],
 "metadata": {
  "kernelspec": {
   "display_name": "Python 3.8.15 ('ml')",
   "language": "python",
   "name": "python3"
  },
  "language_info": {
   "codemirror_mode": {
    "name": "ipython",
    "version": 3
   },
   "file_extension": ".py",
   "mimetype": "text/x-python",
   "name": "python",
   "nbconvert_exporter": "python",
   "pygments_lexer": "ipython3",
   "version": "3.8.15"
  },
  "orig_nbformat": 4,
  "vscode": {
   "interpreter": {
    "hash": "7fbb7bc7656f6be0ea30baeef166ae9c5110869b59dc75fa6c387b1b2aec8c5a"
   }
  }
 },
 "nbformat": 4,
 "nbformat_minor": 2
}
