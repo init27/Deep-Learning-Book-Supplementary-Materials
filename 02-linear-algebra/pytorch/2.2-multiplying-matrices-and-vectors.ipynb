{
 "cells": [
  {
   "cell_type": "markdown",
   "metadata": {},
   "source": [
    "## 2.2 Multiplying Matrices and Vectors"
   ]
  },
  {
   "cell_type": "code",
   "execution_count": 1,
   "metadata": {},
   "outputs": [],
   "source": [
    "import torch"
   ]
  },
  {
   "cell_type": "markdown",
   "metadata": {},
   "source": [
    "**Matrix-Matrix Product**\n",
    "- For this to defined, **A** must have the same number of columns as **B** has rows."
   ]
  },
  {
   "cell_type": "code",
   "execution_count": 2,
   "metadata": {},
   "outputs": [
    {
     "name": "stdout",
     "output_type": "stream",
     "text": [
      "Matrix A \n",
      "tensor([[1, 2, 3],\n",
      "        [4, 5, 6],\n",
      "        [7, 8, 9]])\n",
      "\n",
      "Matrix B \n",
      "tensor([[3, 4, 7],\n",
      "        [6, 2, 1],\n",
      "        [3, 5, 8]])\n",
      "\n",
      "Matrix C = AB \n",
      "tensor([[ 24,  23,  33],\n",
      "        [ 60,  56,  81],\n",
      "        [ 96,  89, 129]])\n"
     ]
    }
   ],
   "source": [
    "# Matrix Product\n",
    "\n",
    "A = torch.tensor([\n",
    "    [1, 2, 3],\n",
    "    [4, 5, 6],\n",
    "    [7, 8, 9]\n",
    "])\n",
    "\n",
    "B = torch.tensor([\n",
    "    [3, 4, 7],\n",
    "    [6, 2, 1],\n",
    "    [3, 5, 8]\n",
    "])\n",
    "\n",
    "C = torch.matmul(A, B)\n",
    "\n",
    "print(f\"Matrix A \\n{A}\")\n",
    "print(f\"\\nMatrix B \\n{B}\")\n",
    "print(f\"\\nMatrix C = AB \\n{C}\")"
   ]
  },
  {
   "cell_type": "markdown",
   "metadata": {},
   "source": [
    "---"
   ]
  },
  {
   "cell_type": "markdown",
   "metadata": {},
   "source": [
    "**Hadamard Product**\n",
    "- It is also called element-wise product where we obtain the product of individual elements of the \\\n",
    "two matrices."
   ]
  },
  {
   "cell_type": "code",
   "execution_count": 3,
   "metadata": {},
   "outputs": [
    {
     "name": "stdout",
     "output_type": "stream",
     "text": [
      "Matrix A \n",
      "tensor([[1, 2, 3],\n",
      "        [4, 5, 6],\n",
      "        [7, 8, 9]])\n",
      "\n",
      "Matrix B \n",
      "tensor([[3, 4, 7],\n",
      "        [6, 2, 1],\n",
      "        [3, 5, 8]])\n",
      "\n",
      "Hadamard Product \n",
      "tensor([[ 3,  8, 21],\n",
      "        [24, 10,  6],\n",
      "        [21, 40, 72]])\n"
     ]
    }
   ],
   "source": [
    "C = torch.mul(A, B)\n",
    "\n",
    "print(f\"Matrix A \\n{A}\")\n",
    "print(f\"\\nMatrix B \\n{B}\")\n",
    "print(f\"\\nHadamard Product \\n{C}\")"
   ]
  },
  {
   "cell_type": "markdown",
   "metadata": {},
   "source": [
    "---"
   ]
  },
  {
   "cell_type": "markdown",
   "metadata": {},
   "source": [
    "**Vector Dot Product**"
   ]
  },
  {
   "cell_type": "code",
   "execution_count": 4,
   "metadata": {},
   "outputs": [
    {
     "name": "stdout",
     "output_type": "stream",
     "text": [
      "vector1 \n",
      "tensor([2, 2, 2])\n",
      "\n",
      "vector2 \n",
      "tensor([ 5, 10, 20])\n",
      "\n",
      "Dot Product of A and B \n",
      "70\n"
     ]
    }
   ],
   "source": [
    "vector1 = torch.tensor([2, 2, 2])\n",
    "vector2 = torch.tensor([5, 10, 20])\n",
    "\n",
    "dot_product = torch.dot(vector1, vector2)\n",
    "\n",
    "print(f\"vector1 \\n{vector1}\")\n",
    "print(f\"\\nvector2 \\n{vector2}\")\n",
    "print(f\"\\nDot Product of A and B \\n{dot_product}\")"
   ]
  },
  {
   "cell_type": "markdown",
   "metadata": {},
   "source": [
    "---"
   ]
  },
  {
   "cell_type": "markdown",
   "metadata": {},
   "source": [
    "### Matrix Product Properties"
   ]
  },
  {
   "cell_type": "markdown",
   "metadata": {},
   "source": [
    "**Distributive Property**\n",
    "```\n",
    "A(B + C) = AB + AC\n",
    "```"
   ]
  },
  {
   "cell_type": "code",
   "execution_count": 5,
   "metadata": {},
   "outputs": [
    {
     "name": "stdout",
     "output_type": "stream",
     "text": [
      "\n",
      "Matrix A: \n",
      "tensor([[2, 2, 2],\n",
      "        [2, 2, 2],\n",
      "        [2, 2, 2]])\n",
      "\n",
      "Matrix B: \n",
      "tensor([[3, 3, 3],\n",
      "        [3, 3, 3],\n",
      "        [3, 3, 3]])\n",
      "\n",
      "Matrix C: \n",
      "tensor([[5, 5, 5],\n",
      "        [5, 5, 5],\n",
      "        [5, 5, 5]])\n",
      "\n",
      "LHS: A(B + C) \n",
      "tensor([[48, 48, 48],\n",
      "        [48, 48, 48],\n",
      "        [48, 48, 48]])\n",
      "\n",
      "RHS: AB + AC \n",
      "tensor([[48, 48, 48],\n",
      "        [48, 48, 48],\n",
      "        [48, 48, 48]])\n"
     ]
    }
   ],
   "source": [
    "A = torch.full((3, 3), 2)\n",
    "B = torch.full((3, 3), 3)\n",
    "C = torch.full((3, 3), 5)\n",
    "\n",
    "print(f\"\\nMatrix A: \\n{A}\")\n",
    "print(f\"\\nMatrix B: \\n{B}\")\n",
    "print(f\"\\nMatrix C: \\n{C}\")\n",
    "\n",
    "lhs = torch.matmul(A, B+C)\n",
    "print(f\"\\nLHS: A(B + C) \\n{lhs}\")\n",
    "\n",
    "rhs = torch.matmul(A, B) + torch.matmul(A, C)\n",
    "print(f\"\\nRHS: AB + AC \\n{rhs}\")"
   ]
  },
  {
   "cell_type": "markdown",
   "metadata": {},
   "source": [
    "---"
   ]
  },
  {
   "cell_type": "markdown",
   "metadata": {},
   "source": [
    "**Associative Property**\n",
    "```\n",
    "A(BC) = (AB)C\n",
    "```"
   ]
  },
  {
   "cell_type": "code",
   "execution_count": 6,
   "metadata": {},
   "outputs": [
    {
     "name": "stdout",
     "output_type": "stream",
     "text": [
      "\n",
      "Matrix A: \n",
      "tensor([[2, 2, 2],\n",
      "        [2, 2, 2],\n",
      "        [2, 2, 2]])\n",
      "\n",
      "Matrix B: \n",
      "tensor([[3, 3, 3],\n",
      "        [3, 3, 3],\n",
      "        [3, 3, 3]])\n",
      "\n",
      "Matrix C: \n",
      "tensor([[5, 5, 5],\n",
      "        [5, 5, 5],\n",
      "        [5, 5, 5]])\n",
      "\n",
      "LHS: A(BC) \n",
      "tensor([[270, 270, 270],\n",
      "        [270, 270, 270],\n",
      "        [270, 270, 270]])\n",
      "\n",
      "RHS: (AB)C \n",
      "tensor([[270, 270, 270],\n",
      "        [270, 270, 270],\n",
      "        [270, 270, 270]])\n"
     ]
    }
   ],
   "source": [
    "A = torch.full((3, 3), 2)\n",
    "B = torch.full((3, 3), 3)\n",
    "C = torch.full((3, 3), 5)\n",
    "\n",
    "print(f\"\\nMatrix A: \\n{A}\")\n",
    "print(f\"\\nMatrix B: \\n{B}\")\n",
    "print(f\"\\nMatrix C: \\n{C}\")\n",
    "\n",
    "lhs = torch.matmul(A, torch.matmul(B, C))\n",
    "print(f\"\\nLHS: A(BC) \\n{lhs}\")\n",
    "\n",
    "rhs = torch.matmul(torch.matmul(A, B), C)\n",
    "print(f\"\\nRHS: (AB)C \\n{rhs}\")"
   ]
  },
  {
   "cell_type": "markdown",
   "metadata": {},
   "source": [
    "---"
   ]
  },
  {
   "cell_type": "markdown",
   "metadata": {},
   "source": [
    "**Non Commutativity of Matrix Multiplication**\n",
    "```\n",
    "AB != BA\n",
    "```\n",
    "\n",
    "- `AB = BA` can hold true for some cases. "
   ]
  },
  {
   "cell_type": "code",
   "execution_count": 7,
   "metadata": {},
   "outputs": [
    {
     "name": "stdout",
     "output_type": "stream",
     "text": [
      "\n",
      "Matrix A: \n",
      "tensor([[1, 2, 3],\n",
      "        [4, 5, 6],\n",
      "        [7, 8, 9]])\n",
      "\n",
      "Matrix B: \n",
      "tensor([[3, 4, 7],\n",
      "        [6, 2, 1],\n",
      "        [3, 5, 8]])\n",
      "AB \n",
      "tensor([[ 24,  23,  33],\n",
      "        [ 60,  56,  81],\n",
      "        [ 96,  89, 129]])\n",
      "BA \n",
      "tensor([[ 68,  82,  96],\n",
      "        [ 21,  30,  39],\n",
      "        [ 79,  95, 111]])\n"
     ]
    }
   ],
   "source": [
    "A = torch.tensor([\n",
    "    [1, 2, 3],\n",
    "    [4, 5, 6],\n",
    "    [7, 8, 9]\n",
    "])\n",
    "\n",
    "B = torch.tensor([\n",
    "    [3, 4, 7],\n",
    "    [6, 2, 1],\n",
    "    [3, 5, 8]\n",
    "])\n",
    "\n",
    "print(f\"\\nMatrix A: \\n{A}\")\n",
    "print(f\"\\nMatrix B: \\n{B}\")\n",
    "\n",
    "print(f\"AB \\n{torch.matmul(A, B)}\")\n",
    "print(f\"BA \\n{torch.matmul(B, A)}\")"
   ]
  },
  {
   "cell_type": "markdown",
   "metadata": {},
   "source": [
    "---"
   ]
  },
  {
   "cell_type": "markdown",
   "metadata": {},
   "source": [
    "**Commutativity of Vector Dot Product**\n",
    "```\n",
    "x dot y = y dot x\n",
    "```"
   ]
  },
  {
   "cell_type": "code",
   "execution_count": 8,
   "metadata": {},
   "outputs": [
    {
     "name": "stdout",
     "output_type": "stream",
     "text": [
      "vector1 = tensor([2, 2, 2])\n",
      "\n",
      "vector2 = tensor([ 5, 10, 20])\n",
      "\n",
      "vector1 dot vector2 = 70\n",
      "\n",
      "vector2 dot vector1 = 70\n"
     ]
    }
   ],
   "source": [
    "vector1 = torch.tensor([2, 2, 2])\n",
    "vector2 = torch.tensor([5, 10, 20])\n",
    "\n",
    "dot_product = torch.dot(vector1, vector2)\n",
    "\n",
    "print(f\"vector1 = {vector1}\")\n",
    "print(f\"\\nvector2 = {vector2}\")\n",
    "print(f\"\\nvector1 dot vector2 = {torch.dot(vector1, vector2)}\")\n",
    "print(f\"\\nvector2 dot vector1 = {torch.dot(vector2, vector1)}\")"
   ]
  },
  {
   "cell_type": "markdown",
   "metadata": {},
   "source": [
    "---"
   ]
  },
  {
   "cell_type": "markdown",
   "metadata": {},
   "source": [
    "**Transpose of a Matrix Product**\n",
    "\n",
    "$$(AB)^T = B^T A^T$$"
   ]
  },
  {
   "cell_type": "code",
   "execution_count": 9,
   "metadata": {},
   "outputs": [
    {
     "name": "stdout",
     "output_type": "stream",
     "text": [
      "\n",
      "Matrix A: \n",
      "tensor([[1, 2, 3],\n",
      "        [4, 5, 6],\n",
      "        [7, 8, 9]])\n",
      "\n",
      "Matrix B: \n",
      "tensor([[3, 4, 7],\n",
      "        [6, 2, 1],\n",
      "        [3, 5, 8]])\n",
      "AB \n",
      "tensor([[ 24,  23,  33],\n",
      "        [ 60,  56,  81],\n",
      "        [ 96,  89, 129]])\n",
      "(AB)^T \n",
      "tensor([[ 24,  60,  96],\n",
      "        [ 23,  56,  89],\n",
      "        [ 33,  81, 129]])\n",
      "B^T A^T \n",
      "tensor([[ 24,  60,  96],\n",
      "        [ 23,  56,  89],\n",
      "        [ 33,  81, 129]])\n"
     ]
    }
   ],
   "source": [
    "A = torch.tensor([\n",
    "    [1, 2, 3],\n",
    "    [4, 5, 6],\n",
    "    [7, 8, 9]\n",
    "])\n",
    "\n",
    "B = torch.tensor([\n",
    "    [3, 4, 7],\n",
    "    [6, 2, 1],\n",
    "    [3, 5, 8]\n",
    "])\n",
    "\n",
    "print(f\"\\nMatrix A: \\n{A}\")\n",
    "print(f\"\\nMatrix B: \\n{B}\")\n",
    "\n",
    "print(f\"AB \\n{torch.matmul(A, B)}\")\n",
    "\n",
    "print(f\"(AB)^T \\n{torch.transpose(torch.matmul(A, B), 0, 1)}\")\n",
    "\n",
    "print(f\"B^T A^T \\n{torch.matmul(torch.transpose(B, 0, 1), torch.transpose(A, 0, 1))}\")"
   ]
  },
  {
   "cell_type": "markdown",
   "metadata": {},
   "source": [
    "---"
   ]
  },
  {
   "cell_type": "markdown",
   "metadata": {},
   "source": [
    "**Additional Resources**\n",
    "- [3Blue1Brown Video](https://www.youtube.com/watch?v=XkY2DOUCWMU)\n",
    "- [Prof. Gilbert Strang Lecture](https://www.youtube.com/watch?v=FX4C-JpTFgY&t=1s)\n",
    "\n",
    "---"
   ]
  }
 ],
 "metadata": {
  "kernelspec": {
   "display_name": "Python 3.8.12 ('pytorch-env')",
   "language": "python",
   "name": "python3"
  },
  "language_info": {
   "codemirror_mode": {
    "name": "ipython",
    "version": 3
   },
   "file_extension": ".py",
   "mimetype": "text/x-python",
   "name": "python",
   "nbconvert_exporter": "python",
   "pygments_lexer": "ipython3",
   "version": "3.8.12"
  },
  "orig_nbformat": 4,
  "vscode": {
   "interpreter": {
    "hash": "7b8c0e5ec3c14ef8790dc100c3f38327266fd38032698588d74e1007df4428c8"
   }
  }
 },
 "nbformat": 4,
 "nbformat_minor": 2
}
