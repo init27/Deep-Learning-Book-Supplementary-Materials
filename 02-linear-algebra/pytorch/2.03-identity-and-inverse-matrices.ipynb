{
 "cells": [
  {
   "cell_type": "markdown",
   "metadata": {},
   "source": [
    "## 2.3 Identity and Inverse Matrices"
   ]
  },
  {
   "cell_type": "markdown",
   "metadata": {},
   "source": [
    "**Identity Matrix**\n",
    "- An identity matrix is a matrix that does not change any vector when we multiply that vector by that matrix.\n",
    "- The structure of identity matrix is to have all the entries along the main diagonal as 1 while all other entires are 0."
   ]
  },
  {
   "cell_type": "code",
   "execution_count": 1,
   "metadata": {},
   "outputs": [],
   "source": [
    "import torch"
   ]
  },
  {
   "cell_type": "code",
   "execution_count": 2,
   "metadata": {},
   "outputs": [
    {
     "name": "stdout",
     "output_type": "stream",
     "text": [
      "A 3x3 Identity Matrix: \n",
      "tensor([[1., 0., 0.],\n",
      "        [0., 1., 0.],\n",
      "        [0., 0., 1.]])\n"
     ]
    }
   ],
   "source": [
    "identity_matrix = torch.eye(3)\n",
    "print(f\"A 3x3 Identity Matrix: \\n{identity_matrix}\")"
   ]
  },
  {
   "cell_type": "markdown",
   "metadata": {},
   "source": [
    "---"
   ]
  },
  {
   "cell_type": "markdown",
   "metadata": {},
   "source": [
    "**Matrix Inverse**\n",
    "\n",
    "The Matrix Inverse `A^-1` is defined as the matrix such that \n",
    "$$A^{-1}A = I$$"
   ]
  },
  {
   "cell_type": "code",
   "execution_count": 3,
   "metadata": {},
   "outputs": [
    {
     "name": "stdout",
     "output_type": "stream",
     "text": [
      "Matrix A: \n",
      "tensor([[ 4., -2.,  1.],\n",
      "        [ 5.,  0.,  3.],\n",
      "        [-1.,  2.,  6.]])\n",
      "\n",
      "Matrix A_inverse: \n",
      "tensor([[-0.1154,  0.2692, -0.1154],\n",
      "        [-0.6346,  0.4808, -0.1346],\n",
      "        [ 0.1923, -0.1154,  0.1923]])\n"
     ]
    }
   ],
   "source": [
    "# Case 1: Inverse Exists\n",
    "\n",
    "A = torch.tensor([\n",
    "    [4, -2, 1],\n",
    "    [5, 0, 3],\n",
    "    [-1, 2, 6]\n",
    "    ],\n",
    "    dtype = torch.float32\n",
    ")\n",
    "\n",
    "A_inverse = torch.linalg.inv(A)\n",
    "\n",
    "print(f\"Matrix A: \\n{A}\")\n",
    "print(f\"\\nMatrix A_inverse: \\n{A_inverse}\")"
   ]
  },
  {
   "cell_type": "markdown",
   "metadata": {},
   "source": [
    "You can find the mathmatical calculation of the above values [here](https://www.cuemath.com/algebra/inverse-of-a-matrix/) in example 2."
   ]
  },
  {
   "cell_type": "code",
   "execution_count": 4,
   "metadata": {},
   "outputs": [
    {
     "ename": "_LinAlgError",
     "evalue": "linalg.inv: The diagonal element 3 is zero, the inversion could not be completed because the input matrix is singular.",
     "output_type": "error",
     "traceback": [
      "\u001b[1;31m---------------------------------------------------------------------------\u001b[0m",
      "\u001b[1;31m_LinAlgError\u001b[0m                              Traceback (most recent call last)",
      "Cell \u001b[1;32mIn[4], line 12\u001b[0m\n\u001b[0;32m      1\u001b[0m \u001b[39m# Case 2: Inverse Does Not Exist\u001b[39;00m\n\u001b[0;32m      2\u001b[0m \u001b[39m# In this case the function will throw a RuntimeError\u001b[39;00m\n\u001b[0;32m      4\u001b[0m A \u001b[39m=\u001b[39m torch\u001b[39m.\u001b[39mtensor([\n\u001b[0;32m      5\u001b[0m     [\u001b[39m4\u001b[39m, \u001b[39m-\u001b[39m\u001b[39m2\u001b[39m, \u001b[39m1\u001b[39m],\n\u001b[0;32m      6\u001b[0m     [\u001b[39m5\u001b[39m, \u001b[39m0\u001b[39m, \u001b[39m3\u001b[39m],\n\u001b[1;32m   (...)\u001b[0m\n\u001b[0;32m      9\u001b[0m     dtype \u001b[39m=\u001b[39m torch\u001b[39m.\u001b[39mfloat32\n\u001b[0;32m     10\u001b[0m )\n\u001b[1;32m---> 12\u001b[0m A_inverse \u001b[39m=\u001b[39m torch\u001b[39m.\u001b[39;49mlinalg\u001b[39m.\u001b[39;49minv(A)\n",
      "\u001b[1;31m_LinAlgError\u001b[0m: linalg.inv: The diagonal element 3 is zero, the inversion could not be completed because the input matrix is singular."
     ]
    }
   ],
   "source": [
    "# Case 2: Inverse Does Not Exist\n",
    "# In this case the function will throw a RuntimeError\n",
    "\n",
    "A = torch.tensor([\n",
    "    [4, -2, 1],\n",
    "    [5, 0, 3],\n",
    "    [0, 0, 0]\n",
    "    ],\n",
    "    dtype = torch.float32\n",
    ")\n",
    "\n",
    "A_inverse = torch.linalg.inv(A)"
   ]
  },
  {
   "cell_type": "markdown",
   "metadata": {},
   "source": [
    "---"
   ]
  },
  {
   "cell_type": "markdown",
   "metadata": {},
   "source": [
    "**Additional Resources**\n",
    "- [Prof. Gilbert Strang Video](https://www.youtube.com/watch?v=FX4C-JpTFgY)\n",
    "- [3Blue1Brown Video](https://www.youtube.com/watch?v=uQhTuRlWMxw)\n",
    "\n",
    "---"
   ]
  }
 ],
 "metadata": {
  "kernelspec": {
   "display_name": "Python 3.8.15 ('ml')",
   "language": "python",
   "name": "python3"
  },
  "language_info": {
   "codemirror_mode": {
    "name": "ipython",
    "version": 3
   },
   "file_extension": ".py",
   "mimetype": "text/x-python",
   "name": "python",
   "nbconvert_exporter": "python",
   "pygments_lexer": "ipython3",
   "version": "3.8.15"
  },
  "orig_nbformat": 4,
  "vscode": {
   "interpreter": {
    "hash": "7fbb7bc7656f6be0ea30baeef166ae9c5110869b59dc75fa6c387b1b2aec8c5a"
   }
  }
 },
 "nbformat": 4,
 "nbformat_minor": 2
}
