{
 "cells": [
  {
   "cell_type": "markdown",
   "metadata": {},
   "source": [
    "## 2.9 Moore Penrose Pseudoinverse"
   ]
  },
  {
   "cell_type": "markdown",
   "metadata": {},
   "source": [
    "In mathematics, and in particular linear algebra, the Moore–Penrose inverse of a matrix is the most widely known generalization of the inverse matrix.\n",
    "  \n",
    "A common use of the pseudoinverse is to compute a \"best fit\" (least squares) solution to a system of linear equations that lacks a solution. Another use is to find the minimum (Euclidean) norm solution to a system of linear equations with multiple solutions. The pseudoinverse facilitates the statement and proof of results in linear algebra.\n",
    "\n",
    "The pseudoinverse is defined and unique for all matrices whose entries are real or complex numbers. It can be computed using the singular value decomposition. \n",
    "  \n",
    "[Definition reference](https://en.wikipedia.org/wiki/Moore%E2%80%93Penrose_inverse)"
   ]
  },
  {
   "cell_type": "code",
   "execution_count": 3,
   "metadata": {},
   "outputs": [],
   "source": [
    "import torch"
   ]
  },
  {
   "cell_type": "code",
   "execution_count": 4,
   "metadata": {},
   "outputs": [
    {
     "name": "stdout",
     "output_type": "stream",
     "text": [
      "Matrix A: \n",
      "tensor([[1., 1., 1., 1.],\n",
      "        [5., 7., 7., 9.]], dtype=torch.float64)\n",
      "\n",
      "Moore Penrose Pseudoinverse: \n",
      "tensor([[ 2.0000e+00, -2.5000e-01],\n",
      "        [ 2.5000e-01,  0.0000e+00],\n",
      "        [ 2.5000e-01,  4.1633e-17],\n",
      "        [-1.5000e+00,  2.5000e-01]], dtype=torch.float64)\n"
     ]
    }
   ],
   "source": [
    "A = torch.tensor([\n",
    "    [1, 1, 1, 1],\n",
    "    [5, 7, 7, 9]\n",
    "], dtype = float)\n",
    "\n",
    "A_pseudoinverse = torch.linalg.pinv(A)\n",
    "\n",
    "print(f\"Matrix A: \\n{A}\")\n",
    "print(f\"\\nMoore Penrose Pseudoinverse: \\n{A_pseudoinverse}\")"
   ]
  },
  {
   "cell_type": "markdown",
   "metadata": {},
   "source": [
    "---"
   ]
  },
  {
   "cell_type": "markdown",
   "metadata": {},
   "source": [
    "**Additional Resources**\n",
    "- [Mathematical Calculations for above example](https://help.matheass.eu/en/E635-Pseudoinverse.html)\n",
    "- [MIT Lecture](https://www.youtube.com/watch?v=N74V4CBO0sk)\n",
    "\n",
    "---"
   ]
  }
 ],
 "metadata": {
  "kernelspec": {
   "display_name": "Python 3.8.15 ('ml')",
   "language": "python",
   "name": "python3"
  },
  "language_info": {
   "codemirror_mode": {
    "name": "ipython",
    "version": 3
   },
   "file_extension": ".py",
   "mimetype": "text/x-python",
   "name": "python",
   "nbconvert_exporter": "python",
   "pygments_lexer": "ipython3",
   "version": "3.8.15"
  },
  "orig_nbformat": 4,
  "vscode": {
   "interpreter": {
    "hash": "7fbb7bc7656f6be0ea30baeef166ae9c5110869b59dc75fa6c387b1b2aec8c5a"
   }
  }
 },
 "nbformat": 4,
 "nbformat_minor": 2
}
