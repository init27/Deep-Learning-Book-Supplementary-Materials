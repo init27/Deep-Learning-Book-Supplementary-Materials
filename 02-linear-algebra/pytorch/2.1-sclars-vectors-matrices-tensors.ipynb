{
 "cells": [
  {
   "cell_type": "markdown",
   "metadata": {},
   "source": [
    "## Chapter 2: Linear Algebra (PyTorch Notebook)"
   ]
  },
  {
   "cell_type": "markdown",
   "metadata": {},
   "source": [
    "### 2.1 Scalars, Vectors, Matrices and Tensors"
   ]
  },
  {
   "cell_type": "code",
   "execution_count": 1,
   "metadata": {},
   "outputs": [],
   "source": [
    "import torch"
   ]
  },
  {
   "cell_type": "markdown",
   "metadata": {},
   "source": [
    "**Scalar:**\n",
    "- A scalar is a single number."
   ]
  },
  {
   "cell_type": "code",
   "execution_count": 2,
   "metadata": {},
   "outputs": [
    {
     "name": "stdout",
     "output_type": "stream",
     "text": [
      "Scalar s = 2\n"
     ]
    }
   ],
   "source": [
    "# Scalar\n",
    "\n",
    "s = torch.tensor(2)\n",
    "print(f\"Scalar s = {s}\")"
   ]
  },
  {
   "cell_type": "markdown",
   "metadata": {},
   "source": [
    "---"
   ]
  },
  {
   "cell_type": "markdown",
   "metadata": {},
   "source": [
    "**Vector:**\n",
    "- A vector is an array of numbers.\n",
    "- The numbers are arranged in an order.\n",
    "- We can identify each individual number by its index value."
   ]
  },
  {
   "cell_type": "code",
   "execution_count": 3,
   "metadata": {},
   "outputs": [
    {
     "name": "stdout",
     "output_type": "stream",
     "text": [
      "Vector x = tensor([10, 20, 30, 40, 50])\n"
     ]
    }
   ],
   "source": [
    "# Vector\n",
    "\n",
    "x = torch.tensor([10, 20, 30, 40, 50])\n",
    "print(f\"Vector x = {x}\")"
   ]
  },
  {
   "cell_type": "markdown",
   "metadata": {},
   "source": [
    "---"
   ]
  },
  {
   "cell_type": "markdown",
   "metadata": {},
   "source": [
    "**Matrix:**\n",
    "- A Matrix is 2D Array of numbers, so each element is identified by two indices instead of just one."
   ]
  },
  {
   "cell_type": "code",
   "execution_count": 4,
   "metadata": {},
   "outputs": [
    {
     "name": "stdout",
     "output_type": "stream",
     "text": [
      "Matrix A = \n",
      "tensor([[5, 5, 5],\n",
      "        [5, 5, 5],\n",
      "        [5, 5, 5]])\n"
     ]
    }
   ],
   "source": [
    "# Matrix\n",
    "\n",
    "A = torch.full((3, 3), 5)\n",
    "print(f\"Matrix A = \\n{A}\")"
   ]
  },
  {
   "cell_type": "markdown",
   "metadata": {},
   "source": [
    "---"
   ]
  },
  {
   "cell_type": "markdown",
   "metadata": {},
   "source": [
    "**Tensor:**\n",
    "- An array of numbers arranged on a regular grid with a variable number of axes is known as a tensor."
   ]
  },
  {
   "cell_type": "code",
   "execution_count": 5,
   "metadata": {},
   "outputs": [
    {
     "name": "stdout",
     "output_type": "stream",
     "text": [
      "Tensor T = \n",
      "tensor([[[5, 5, 5],\n",
      "         [5, 5, 5],\n",
      "         [5, 5, 5]],\n",
      "\n",
      "        [[5, 5, 5],\n",
      "         [5, 5, 5],\n",
      "         [5, 5, 5]],\n",
      "\n",
      "        [[5, 5, 5],\n",
      "         [5, 5, 5],\n",
      "         [5, 5, 5]]])\n"
     ]
    }
   ],
   "source": [
    "# Tensor\n",
    "T = torch.full((3, 3, 3), 5)\n",
    "print(f\"Tensor T = \\n{T}\")"
   ]
  },
  {
   "cell_type": "markdown",
   "metadata": {},
   "source": [
    "---"
   ]
  },
  {
   "cell_type": "markdown",
   "metadata": {},
   "source": [
    "**Transpose:**\n",
    "- The transpose of a matrix is the mirror image of the matrix across a diagonal line, called the main diagonal, \\\n",
    "running down and to the right, starting from its upper left corner."
   ]
  },
  {
   "cell_type": "code",
   "execution_count": 6,
   "metadata": {},
   "outputs": [
    {
     "name": "stdout",
     "output_type": "stream",
     "text": [
      "Original Matrix A: \n",
      "tensor([[1, 2, 3],\n",
      "        [4, 5, 6],\n",
      "        [7, 8, 9]])\n",
      "\n",
      "Transposed Matrix: \n",
      "tensor([[1, 4, 7],\n",
      "        [2, 5, 8],\n",
      "        [3, 6, 9]])\n"
     ]
    }
   ],
   "source": [
    "# Transpose of Matrix\n",
    "\n",
    "A = torch.tensor([\n",
    "    [1, 2, 3],\n",
    "    [4, 5, 6],\n",
    "    [7, 8, 9]\n",
    "])\n",
    "\n",
    "A_transpose = torch.transpose(\n",
    "    input = A, \n",
    "    dim0 = 0, # First dim to be transposed\n",
    "    dim1 = 1  # Second dim to be transposed\n",
    "    )\n",
    "\n",
    "print(f\"Original Matrix A: \\n{A}\\n\")\n",
    "print(f\"Transposed Matrix: \\n{A_transpose}\")"
   ]
  },
  {
   "cell_type": "markdown",
   "metadata": {},
   "source": [
    "---"
   ]
  },
  {
   "cell_type": "code",
   "execution_count": 7,
   "metadata": {},
   "outputs": [
    {
     "name": "stdout",
     "output_type": "stream",
     "text": [
      "Matrix A: \n",
      "tensor([[5, 5, 5],\n",
      "        [5, 5, 5],\n",
      "        [5, 5, 5]])\n",
      "\n",
      "Matrix B: \n",
      "tensor([[10, 10, 10],\n",
      "        [10, 10, 10],\n",
      "        [10, 10, 10]])\n",
      "\n",
      "Matrix C = A + B \n",
      "tensor([[15, 15, 15],\n",
      "        [15, 15, 15],\n",
      "        [15, 15, 15]])\n"
     ]
    }
   ],
   "source": [
    "# Matrix-Matrix Addition\n",
    "\n",
    "A = torch.full((3, 3), 5)\n",
    "B = torch.full((3, 3), 10)\n",
    "\n",
    "C = A + B\n",
    "\n",
    "print(f\"Matrix A: \\n{A}\")\n",
    "print(f\"\\nMatrix B: \\n{B}\")\n",
    "print(f\"\\nMatrix C = A + B \\n{C}\")"
   ]
  },
  {
   "cell_type": "markdown",
   "metadata": {},
   "source": [
    "---"
   ]
  },
  {
   "cell_type": "code",
   "execution_count": 8,
   "metadata": {},
   "outputs": [
    {
     "name": "stdout",
     "output_type": "stream",
     "text": [
      "Matrix A: \n",
      "tensor([[5, 5, 5],\n",
      "        [5, 5, 5],\n",
      "        [5, 5, 5]])\n",
      "\n",
      "scalar1 = 10\n",
      "scalar2 = 20\n",
      "\n",
      "C = A * scalar1 + scalar2 \n",
      "tensor([[70, 70, 70],\n",
      "        [70, 70, 70],\n",
      "        [70, 70, 70]])\n"
     ]
    }
   ],
   "source": [
    "# Matrix-Sclar Addition and Multiplication\n",
    "\n",
    "A = torch.full((3, 3), 5)\n",
    "scalar1 = 10\n",
    "scalar2 = 20 \n",
    "\n",
    "C = A * scalar1 + scalar2\n",
    "\n",
    "\n",
    "print(f\"Matrix A: \\n{A}\")\n",
    "print(f\"\\nscalar1 = {scalar1}\")\n",
    "print(f\"scalar2 = {scalar2}\")\n",
    "print(f\"\\nC = A * scalar1 + scalar2 \\n{C}\")\n"
   ]
  },
  {
   "cell_type": "markdown",
   "metadata": {},
   "source": [
    "---"
   ]
  },
  {
   "cell_type": "code",
   "execution_count": 9,
   "metadata": {},
   "outputs": [
    {
     "name": "stdout",
     "output_type": "stream",
     "text": [
      "Matrix Vector Addition without Broadcasting\n",
      "\n",
      "Matrix A: \n",
      "tensor([[5, 5, 5],\n",
      "        [5, 5, 5],\n",
      "        [5, 5, 5]])\n",
      "\n",
      "matrix_x: \n",
      "tensor([[4, 4, 4],\n",
      "        [4, 4, 4],\n",
      "        [4, 4, 4]])\n",
      "\n",
      "C1 = A + matrix_x: \n",
      "tensor([[9, 9, 9],\n",
      "        [9, 9, 9],\n",
      "        [9, 9, 9]])\n"
     ]
    }
   ],
   "source": [
    "# Matrix-Vector Addition without Broadcasting\n",
    "\n",
    "A = torch.full((3, 3), 5)\n",
    "matrix_x = torch.full((3, 3), 4)\n",
    "\n",
    "C1 = A + matrix_x \n",
    "print(\"Matrix Vector Addition without Broadcasting\")\n",
    "print(f\"\\nMatrix A: \\n{A}\")\n",
    "print(f\"\\nmatrix_x: \\n{matrix_x}\")\n",
    "print(f\"\\nC1 = A + matrix_x: \\n{C1}\")\n"
   ]
  },
  {
   "cell_type": "markdown",
   "metadata": {},
   "source": [
    "**Broadcasting:**\n",
    "- In the above case, we see that the `matrix_x` is essentially a vector `[4, 4, 4]` copied 2 times to form 3 rows.\n",
    "- We can eliminate this copying, by using broadcasting. \n",
    "- Instead, in broadcasting, a single vector is broadcasted (copied) to the rows of the target matrix for the required operation (here - addition).\n",
    "- Here is an intuitive example of how broadcasting works.\n",
    "\n",
    "```\n",
    "                Addition            \n",
    "                   | --> [5, 5, 5]   [9, 9, 9]\n",
    "     [4, 4, 4] --> | --> [5, 5, 5] = [9, 9, 9]\n",
    "                   | --> [5, 5, 5]   [9, 9, 9]\n",
    "```"
   ]
  },
  {
   "cell_type": "code",
   "execution_count": 10,
   "metadata": {},
   "outputs": [
    {
     "name": "stdout",
     "output_type": "stream",
     "text": [
      "Matrix Vector Addition with Broadcasting\n",
      "\n",
      "Matrix A: \n",
      "tensor([[5, 5, 5],\n",
      "        [5, 5, 5],\n",
      "        [5, 5, 5]])\n",
      "\n",
      "vector_x: \n",
      "tensor([4, 4, 4])\n",
      "\n",
      "C2 = A + vector_x: \n",
      "tensor([[9, 9, 9],\n",
      "        [9, 9, 9],\n",
      "        [9, 9, 9]])\n"
     ]
    }
   ],
   "source": [
    "# Matrix-Vector Addition with Broadcasting\n",
    "\n",
    "A = torch.full((3, 3), 5)\n",
    "vector_x = torch.tensor([4, 4, 4])\n",
    "\n",
    "C2 = A + vector_x \n",
    "\n",
    "print(\"Matrix Vector Addition with Broadcasting\")\n",
    "print(f\"\\nMatrix A: \\n{A}\")\n",
    "print(f\"\\nvector_x: \\n{vector_x}\")\n",
    "print(f\"\\nC2 = A + vector_x: \\n{C2}\")\n",
    "\n"
   ]
  },
  {
   "cell_type": "markdown",
   "metadata": {},
   "source": [
    "---"
   ]
  }
 ],
 "metadata": {
  "kernelspec": {
   "display_name": "Python 3.8.12 ('pytorch-env')",
   "language": "python",
   "name": "python3"
  },
  "language_info": {
   "codemirror_mode": {
    "name": "ipython",
    "version": 3
   },
   "file_extension": ".py",
   "mimetype": "text/x-python",
   "name": "python",
   "nbconvert_exporter": "python",
   "pygments_lexer": "ipython3",
   "version": "3.8.12"
  },
  "orig_nbformat": 4,
  "vscode": {
   "interpreter": {
    "hash": "7b8c0e5ec3c14ef8790dc100c3f38327266fd38032698588d74e1007df4428c8"
   }
  }
 },
 "nbformat": 4,
 "nbformat_minor": 2
}
