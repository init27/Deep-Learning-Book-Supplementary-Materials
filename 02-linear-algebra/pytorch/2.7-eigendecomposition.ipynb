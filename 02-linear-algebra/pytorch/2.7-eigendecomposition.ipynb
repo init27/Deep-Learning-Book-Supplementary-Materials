{
 "cells": [
  {
   "cell_type": "markdown",
   "metadata": {},
   "source": [
    "## 2.7 Eigendecomposition"
   ]
  },
  {
   "cell_type": "markdown",
   "metadata": {},
   "source": [
    "- Eigendecomposition is a matrix decomposition technique in which we decompose a matrix into a set of eigen vectors and eigenvalues.\n",
    "- An Eigenvector of a square matrix `A` is a non-zero vector `v` such that multiplication by `A` alters only the scale of `v`:\n",
    "$$Av=\\lambda v$$\n",
    "- The scalar `v` is known as the eigenvalue corresponding to this eigenvector. \n",
    "- If a matrix is not square, the eigendecomposition is not defined."
   ]
  },
  {
   "cell_type": "code",
   "execution_count": 1,
   "metadata": {},
   "outputs": [],
   "source": [
    "import torch"
   ]
  },
  {
   "cell_type": "code",
   "execution_count": 2,
   "metadata": {},
   "outputs": [
    {
     "name": "stdout",
     "output_type": "stream",
     "text": [
      "Matrix A: \n",
      "tensor([[-6.,  3.],\n",
      "        [ 4.,  5.]], dtype=torch.float64)\n",
      "\n",
      "Eigen Values: \n",
      "tensor([-7.+0.j,  6.+0.j], dtype=torch.complex128)\n",
      "\n",
      "Eigen Vectors: \n",
      "tensor([[-0.9487+0.j, -0.2425+0.j],\n",
      "        [ 0.3162+0.j, -0.9701+0.j]], dtype=torch.complex128)\n"
     ]
    }
   ],
   "source": [
    "A = torch.tensor([\n",
    "    [-6, 3],\n",
    "    [4, 5]\n",
    "    ], dtype = float)\n",
    "\n",
    "eigenvalues, eigenvectors = torch.linalg.eig(A)\n",
    "    \n",
    "print(f\"Matrix A: \\n{A}\")\n",
    "print(f\"\\nEigen Values: \\n{eigenvalues}\")\n",
    "print(f\"\\nEigen Vectors: \\n{eigenvectors}\")"
   ]
  },
  {
   "cell_type": "markdown",
   "metadata": {},
   "source": [
    "- You can find the mathematical calculations for above values[here] (https://www.mathsisfun.com/algebra/eigenvalue.html)\n",
    "---\n",
    "\n",
    "**Additional Resources**\n",
    "- [3Blue1Brown - Eigenvectors and Eigenvalues](https://youtu.be/PFDu9oVAE-g)\n",
    "- [MIT Linear Algebra PDF](https://math.mit.edu/~gs/linearalgebra/ila0601.pdf)\n",
    "- [Prof. Gilbert Strang - Lecture](https://www.youtube.com/watch?v=cdZnhQjJu4I)"
   ]
  },
  {
   "cell_type": "markdown",
   "metadata": {},
   "source": [
    "---"
   ]
  }
 ],
 "metadata": {
  "kernelspec": {
   "display_name": "Python 3.8.15 ('ml')",
   "language": "python",
   "name": "python3"
  },
  "language_info": {
   "codemirror_mode": {
    "name": "ipython",
    "version": 3
   },
   "file_extension": ".py",
   "mimetype": "text/x-python",
   "name": "python",
   "nbconvert_exporter": "python",
   "pygments_lexer": "ipython3",
   "version": "3.8.15"
  },
  "orig_nbformat": 4,
  "vscode": {
   "interpreter": {
    "hash": "7fbb7bc7656f6be0ea30baeef166ae9c5110869b59dc75fa6c387b1b2aec8c5a"
   }
  }
 },
 "nbformat": 4,
 "nbformat_minor": 2
}
