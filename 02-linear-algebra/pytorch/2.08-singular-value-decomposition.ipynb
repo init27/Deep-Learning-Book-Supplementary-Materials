{
 "cells": [
  {
   "cell_type": "markdown",
   "metadata": {},
   "source": [
    "## 2.8 Singular Value Decomposition"
   ]
  },
  {
   "cell_type": "markdown",
   "metadata": {},
   "source": [
    "- The Singular Value Decomposition is a way to factorize a matrix into singular vectors and singular values.\n",
    "- We write the matrix `A` as a product of three matrices:\n",
    "$$A=UDV^T$$\n",
    "- The matrix `U` and `V` both defined to be orthogonal matrices.\n",
    "- The matrix `D` is defined to be a diagonal matrix. `D` is not necessarily square.\n",
    "- The elements along the diagonal of `D` are known as **singular values** of the matrix `A`.\n",
    "- The columns of `U` are known as the **left-singular vectors**.\n",
    "- The columns of `V` are known as the **right-singular vectors**."
   ]
  },
  {
   "cell_type": "code",
   "execution_count": 1,
   "metadata": {},
   "outputs": [],
   "source": [
    "import torch"
   ]
  },
  {
   "cell_type": "markdown",
   "metadata": {},
   "source": [
    "Full SVD of a matrix `A` is defined as \n",
    "$$A = Udiag(S)V^H$$"
   ]
  },
  {
   "cell_type": "code",
   "execution_count": 41,
   "metadata": {},
   "outputs": [
    {
     "name": "stdout",
     "output_type": "stream",
     "text": [
      "A: \n",
      "tensor([[5., 5., 5.],\n",
      "        [5., 5., 5.],\n",
      "        [5., 5., 5.]], dtype=torch.float64)\n",
      "\n",
      "U: \n",
      "tensor([[-5.7735e-01,  8.1650e-01, -8.7561e-17],\n",
      "        [-5.7735e-01, -4.0825e-01, -7.0711e-01],\n",
      "        [-5.7735e-01, -4.0825e-01,  7.0711e-01]], dtype=torch.float64)\n",
      "\n",
      "S: \n",
      "tensor([1.5000e+01, 1.3294e-15, 7.1822e-48], dtype=torch.float64)\n",
      "\n",
      "Vh: \n",
      "tensor([[-0.5774, -0.5774, -0.5774],\n",
      "        [-0.8165,  0.4082,  0.4082],\n",
      "        [-0.0000,  0.7071, -0.7071]], dtype=torch.float64)\n"
     ]
    }
   ],
   "source": [
    "A = torch.full((3, 3), 5, dtype=float)\n",
    "\n",
    "U, S, Vh = torch.linalg.svd(A)\n",
    "\n",
    "print(f\"A: \\n{A}\")\n",
    "print(f\"\\nU: \\n{U}\")\n",
    "print(f\"\\nS: \\n{S}\")\n",
    "print(f\"\\nVh: \\n{Vh}\")"
   ]
  },
  {
   "cell_type": "code",
   "execution_count": 42,
   "metadata": {},
   "outputs": [
    {
     "data": {
      "text/plain": [
       "tensor([[5.0000, 5.0000, 5.0000],\n",
       "        [5.0000, 5.0000, 5.0000],\n",
       "        [5.0000, 5.0000, 5.0000]], dtype=torch.float64)"
      ]
     },
     "execution_count": 42,
     "metadata": {},
     "output_type": "execute_result"
    }
   ],
   "source": [
    "# Evaluating the above equation, we get matrix A as the result\n",
    "\n",
    "torch.matmul(torch.matmul(U, torch.diag(S)), Vh)"
   ]
  },
  {
   "cell_type": "markdown",
   "metadata": {},
   "source": [
    "---"
   ]
  },
  {
   "cell_type": "markdown",
   "metadata": {},
   "source": [
    "**Additional Resources**\n",
    "- [Prof. Gilbert Strang Lecture](https://www.youtube.com/watch?v=mBcLRGuAFUk)\n",
    "- [Stochastic Video](https://www.youtube.com/watch?v=CpD9XlTu3ys)\n",
    "\n",
    "---"
   ]
  }
 ],
 "metadata": {
  "interpreter": {
   "hash": "e8c8769382f07dff0eda518c34ca095eec03799ac195f748d942eb14f856a7de"
  },
  "kernelspec": {
   "display_name": "Python 3.8.12 ('ml')",
   "language": "python",
   "name": "python3"
  },
  "language_info": {
   "codemirror_mode": {
    "name": "ipython",
    "version": 3
   },
   "file_extension": ".py",
   "mimetype": "text/x-python",
   "name": "python",
   "nbconvert_exporter": "python",
   "pygments_lexer": "ipython3",
   "version": "3.8.12"
  },
  "orig_nbformat": 4
 },
 "nbformat": 4,
 "nbformat_minor": 2
}
