{
 "cells": [
  {
   "cell_type": "markdown",
   "metadata": {},
   "source": [
    "## 2.5 Norms"
   ]
  },
  {
   "cell_type": "markdown",
   "metadata": {},
   "source": [
    "- In Machine Learning, we measure the size of a vector using a function called norm.\n",
    "- On an intuitive level, the norm of a vector `x` measures the distance from the origin to the point `x`."
   ]
  },
  {
   "cell_type": "code",
   "execution_count": 1,
   "metadata": {},
   "outputs": [],
   "source": [
    "import torch"
   ]
  },
  {
   "cell_type": "markdown",
   "metadata": {},
   "source": [
    "**L1 Norm**\n",
    "- The L1 Norm is commonly used in Machine Learning when the difference between zero and nonzero elements is very important.\n",
    "- Every time the element of `x` moves away from 0 by a value, the L1 increases by that value.\n",
    "- In other words, the L1 Norm is just the sum of all the elements of the vector."
   ]
  },
  {
   "cell_type": "code",
   "execution_count": 2,
   "metadata": {},
   "outputs": [
    {
     "name": "stdout",
     "output_type": "stream",
     "text": [
      "Vector x: \n",
      "tensor([2., 4., 6.], dtype=torch.float64)\n",
      "\n",
      "L1 Norm of x: 12.0\n"
     ]
    }
   ],
   "source": [
    "x = torch.tensor([2, 4, 6], dtype=float)\n",
    "\n",
    "l1_norm = torch.linalg.vector_norm(x, ord = 1)\n",
    "\n",
    "print(f\"Vector x: \\n{x}\")\n",
    "print(f\"\\nL1 Norm of x: {l1_norm}\")"
   ]
  },
  {
   "cell_type": "code",
   "execution_count": 3,
   "metadata": {},
   "outputs": [
    {
     "name": "stdout",
     "output_type": "stream",
     "text": [
      "Vector x: \n",
      "tensor([7., 4., 6.], dtype=torch.float64)\n",
      "\n",
      "L1 Norm of x: 17.0\n"
     ]
    }
   ],
   "source": [
    "# Increasing the value of one element of x by 5\n",
    "x[0] = x[0] + 5\n",
    "\n",
    "l1_norm = torch.linalg.vector_norm(x, ord = 1)\n",
    "\n",
    "print(f\"Vector x: \\n{x}\")\n",
    "print(f\"\\nL1 Norm of x: {l1_norm}\")"
   ]
  },
  {
   "cell_type": "markdown",
   "metadata": {},
   "source": [
    "The value of L1 Norm also increased by 5."
   ]
  },
  {
   "cell_type": "markdown",
   "metadata": {},
   "source": [
    "---"
   ]
  },
  {
   "cell_type": "markdown",
   "metadata": {},
   "source": [
    "**L2 Norm**\n",
    "- The L2 Norm is known as the Euclidean Norm, which is simply the Euclidean distance from the origin \\\n",
    "to the point identified by `x`.\n",
    "- The squared L2 Norm is more convinient to work with mathematically and computationally that the L2 Norm."
   ]
  },
  {
   "cell_type": "code",
   "execution_count": 4,
   "metadata": {},
   "outputs": [
    {
     "name": "stdout",
     "output_type": "stream",
     "text": [
      "Vector x: \n",
      "tensor([2., 4., 6.], dtype=torch.float64)\n",
      "\n",
      "L2 Norm of x: 7.483314773547883\n",
      "\n",
      "Squared L2 Norm of x: 56.0\n"
     ]
    }
   ],
   "source": [
    "x = torch.tensor([2, 4, 6], dtype=float)\n",
    "\n",
    "l2_norm = torch.linalg.vector_norm(x, ord = 2)\n",
    "\n",
    "print(f\"Vector x: \\n{x}\")\n",
    "print(f\"\\nL2 Norm of x: {l2_norm}\")\n",
    "print(f\"\\nSquared L2 Norm of x: {l2_norm**2}\")"
   ]
  },
  {
   "cell_type": "code",
   "execution_count": 5,
   "metadata": {},
   "outputs": [
    {
     "data": {
      "text/plain": [
       "tensor(7.4833, dtype=torch.float64)"
      ]
     },
     "execution_count": 5,
     "metadata": {},
     "output_type": "execute_result"
    }
   ],
   "source": [
    "# Internally it is being calculated as follows\n",
    "\n",
    "torch.sqrt((x[0] - 0)**2 + (x[1] - 0)**2 + (x[2] - 0)**2)"
   ]
  },
  {
   "cell_type": "markdown",
   "metadata": {},
   "source": [
    "---"
   ]
  },
  {
   "cell_type": "markdown",
   "metadata": {},
   "source": [
    "**Max Norm**\n",
    "- This norm simplifies to the absolute value of the element with the largest magnitude in the vector."
   ]
  },
  {
   "cell_type": "code",
   "execution_count": 6,
   "metadata": {},
   "outputs": [
    {
     "name": "stdout",
     "output_type": "stream",
     "text": [
      "Vector x: \n",
      "tensor([2., 4., 6.], dtype=torch.float64)\n",
      "\n",
      "Max Norm of x: 7.483314773547883\n"
     ]
    }
   ],
   "source": [
    "x = torch.tensor([2, 4, 6], dtype=float)\n",
    "\n",
    "max_norm = torch.linalg.norm(x, ord = float('inf'))\n",
    "\n",
    "print(f\"Vector x: \\n{x}\")\n",
    "print(f\"\\nMax Norm of x: {l2_norm}\")"
   ]
  },
  {
   "cell_type": "markdown",
   "metadata": {},
   "source": [
    "---"
   ]
  },
  {
   "cell_type": "markdown",
   "metadata": {},
   "source": [
    "**Additional Resources**\n",
    "- [NormalizedNerd Video](https://www.youtube.com/watch?v=FiSy6zWDfiA)\n",
    "- [Prof Gilbert Strang Lecture](https://www.youtube.com/watch?v=NcPUI7aPFhA)"
   ]
  },
  {
   "cell_type": "markdown",
   "metadata": {},
   "source": [
    "---"
   ]
  }
 ],
 "metadata": {
  "kernelspec": {
   "display_name": "Python 3.8.15 ('ml')",
   "language": "python",
   "name": "python3"
  },
  "language_info": {
   "codemirror_mode": {
    "name": "ipython",
    "version": 3
   },
   "file_extension": ".py",
   "mimetype": "text/x-python",
   "name": "python",
   "nbconvert_exporter": "python",
   "pygments_lexer": "ipython3",
   "version": "3.8.15"
  },
  "orig_nbformat": 4,
  "vscode": {
   "interpreter": {
    "hash": "7fbb7bc7656f6be0ea30baeef166ae9c5110869b59dc75fa6c387b1b2aec8c5a"
   }
  }
 },
 "nbformat": 4,
 "nbformat_minor": 2
}
