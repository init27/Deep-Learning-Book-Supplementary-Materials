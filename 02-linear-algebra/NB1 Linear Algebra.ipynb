{
 "cells": [
  {
   "cell_type": "markdown",
   "id": "d697d1a4",
   "metadata": {},
   "source": [
    "- This notebook serves as a reference material and also an introduction to Linear algebra specified in this book\n",
    "[Deep Learning book](https://www.deeplearningbook.org/)\n",
    "\n",
    "- We will be going throught the concepts and also try to implement the mathematical aspects using Numpy (A python Library)"
   ]
  },
  {
   "cell_type": "markdown",
   "id": "34394d88",
   "metadata": {},
   "source": [
    "### <b>2.1 Basics:</b>"
   ]
  },
  {
   "cell_type": "code",
   "execution_count": 1,
   "id": "28d9ab03",
   "metadata": {},
   "outputs": [],
   "source": [
    "import numpy as np \n",
    "import math"
   ]
  },
  {
   "cell_type": "code",
   "execution_count": 2,
   "id": "46ebe94c",
   "metadata": {},
   "outputs": [
    {
     "data": {
      "text/plain": [
       "[1]"
      ]
     },
     "execution_count": 2,
     "metadata": {},
     "output_type": "execute_result"
    }
   ],
   "source": [
    "scalar = [1]\n",
    "scalar"
   ]
  },
  {
   "cell_type": "code",
   "execution_count": 3,
   "id": "83291da1",
   "metadata": {},
   "outputs": [
    {
     "data": {
      "text/plain": [
       "[1, 2, 3]"
      ]
     },
     "execution_count": 3,
     "metadata": {},
     "output_type": "execute_result"
    }
   ],
   "source": [
    "vector = [1,2,3] #array of numbers\n",
    "vector"
   ]
  },
  {
   "cell_type": "code",
   "execution_count": 5,
   "id": "a97e6015",
   "metadata": {},
   "outputs": [
    {
     "data": {
      "text/plain": [
       "[[1, 2], [3, 4], [5, 6]]"
      ]
     },
     "execution_count": 5,
     "metadata": {},
     "output_type": "execute_result"
    }
   ],
   "source": [
    "matrix = [[1,2],[3,4],[5,6]] #it is a 2d array of numbers\n",
    "matrix"
   ]
  },
  {
   "cell_type": "code",
   "execution_count": 6,
   "id": "f436eb6b",
   "metadata": {},
   "outputs": [
    {
     "data": {
      "text/plain": [
       "[[[1, 2], [3, 4]], [[5, 6], [7, 8]]]"
      ]
     },
     "execution_count": 6,
     "metadata": {},
     "output_type": "execute_result"
    }
   ],
   "source": [
    "tensor = [[[1,2]\n",
    "          ,[3,4]]\n",
    "         ,[[5,6]\n",
    "          ,[7,8]]]\n",
    "tensor #array with more than 2 axes"
   ]
  },
  {
   "cell_type": "code",
   "execution_count": 9,
   "id": "955df025",
   "metadata": {},
   "outputs": [
    {
     "name": "stdout",
     "output_type": "stream",
     "text": [
      "Shape of the scalar : (1,)\n",
      " Shape of vector : (3,)\n",
      "Shape of matrix : (3, 2)\n",
      "Shape of Tensor:  (2, 2, 2)\n"
     ]
    }
   ],
   "source": [
    "print(f\"Shape of the scalar : {np.array(scalar).shape}\\n Shape of vector : {np.array(vector).shape}\\nShape of matrix : {np.array(matrix).shape}\\nShape of Tensor:  {np.array(tensor).shape}\")"
   ]
  },
  {
   "cell_type": "markdown",
   "id": "f7a68e1f",
   "metadata": {},
   "source": [
    "- Rank : number of dimensions or axes an object has\n",
    "- Shape : number of elements across each dimension"
   ]
  },
  {
   "cell_type": "code",
   "execution_count": 11,
   "id": "d066c0da",
   "metadata": {},
   "outputs": [
    {
     "data": {
      "text/plain": [
       "1"
      ]
     },
     "execution_count": 11,
     "metadata": {},
     "output_type": "execute_result"
    }
   ],
   "source": [
    "x = np.array([1,2,3])\n",
    "x.ndim #ndim is the numpy function which tells us regarding the rank"
   ]
  },
  {
   "cell_type": "code",
   "execution_count": 14,
   "id": "f4391ad6",
   "metadata": {},
   "outputs": [
    {
     "data": {
      "text/plain": [
       "(2, 3)"
      ]
     },
     "execution_count": 14,
     "metadata": {},
     "output_type": "execute_result"
    }
   ],
   "source": [
    "x1 = np.array([[1,2,3],[4,5,6]])\n",
    "x1.shape #tells us the shape\n",
    "# here we have 2 rows and 3 columns"
   ]
  },
  {
   "cell_type": "markdown",
   "id": "26b80146",
   "metadata": {},
   "source": [
    "### <b>Conventions and accessing examples:</b>"
   ]
  },
  {
   "cell_type": "markdown",
   "id": "de554b1c",
   "metadata": {},
   "source": [
    "- A[i,j]\n",
    "- A[:,j]\n",
    "- A[i,:]\n",
    "- A[:,:]"
   ]
  },
  {
   "cell_type": "code",
   "execution_count": 15,
   "id": "1e399157",
   "metadata": {},
   "outputs": [
    {
     "data": {
      "text/plain": [
       "array([[ 0,  1,  2,  3],\n",
       "       [ 4,  5,  6,  7],\n",
       "       [ 8,  9, 10, 11]])"
      ]
     },
     "execution_count": 15,
     "metadata": {},
     "output_type": "execute_result"
    }
   ],
   "source": [
    "A = np.arange(12).reshape(3,4)\n",
    "A"
   ]
  },
  {
   "cell_type": "code",
   "execution_count": 17,
   "id": "3ea2c133",
   "metadata": {},
   "outputs": [
    {
     "data": {
      "text/plain": [
       "7"
      ]
     },
     "execution_count": 17,
     "metadata": {},
     "output_type": "execute_result"
    }
   ],
   "source": [
    "A[1,3] #accessing the ith row , jth column"
   ]
  },
  {
   "cell_type": "code",
   "execution_count": 19,
   "id": "92250c2d",
   "metadata": {},
   "outputs": [
    {
     "data": {
      "text/plain": [
       "array([ 2,  6, 10])"
      ]
     },
     "execution_count": 19,
     "metadata": {},
     "output_type": "execute_result"
    }
   ],
   "source": [
    "A[:,2] # \":\" represent the entire axes"
   ]
  },
  {
   "cell_type": "code",
   "execution_count": 20,
   "id": "96c9d001",
   "metadata": {},
   "outputs": [
    {
     "data": {
      "text/plain": [
       "array([[ 0,  1,  2,  3],\n",
       "       [ 4,  5,  6,  7],\n",
       "       [ 8,  9, 10, 11]])"
      ]
     },
     "execution_count": 20,
     "metadata": {},
     "output_type": "execute_result"
    }
   ],
   "source": [
    "A[:,:] # all the elements"
   ]
  },
  {
   "cell_type": "code",
   "execution_count": 21,
   "id": "5979d756",
   "metadata": {},
   "outputs": [
    {
     "data": {
      "text/plain": [
       "array([ 8,  9, 10, 11])"
      ]
     },
     "execution_count": 21,
     "metadata": {},
     "output_type": "execute_result"
    }
   ],
   "source": [
    "A[2,:]# 2nd row , entire axes"
   ]
  },
  {
   "cell_type": "code",
   "execution_count": 68,
   "id": "10854cc2",
   "metadata": {},
   "outputs": [
    {
     "data": {
      "text/plain": [
       "array([[6, 6],\n",
       "       [6, 6]])"
      ]
     },
     "execution_count": 68,
     "metadata": {},
     "output_type": "execute_result"
    }
   ],
   "source": [
    "b =5\n",
    "A = np.array([[1,1],[1,1]])\n",
    "A+b"
   ]
  },
  {
   "cell_type": "markdown",
   "id": "3b66f7f9",
   "metadata": {},
   "source": [
    "- How does the above operation take place?\n",
    "- This is called <b>broadcasting</b>\n",
    "- Where 'b' is implicitly copied to many locations.\n",
    "- Simply put 'b' is copied onto each row before doing the addition."
   ]
  },
  {
   "cell_type": "markdown",
   "id": "031c2f54",
   "metadata": {},
   "source": [
    "### <b>2.2 Multiplying matrices and vectors:</b>\n",
    "\n",
    "The notation is C=AB or A*B"
   ]
  },
  {
   "cell_type": "code",
   "execution_count": 22,
   "id": "ae78698e",
   "metadata": {},
   "outputs": [
    {
     "ename": "ValueError",
     "evalue": "operands could not be broadcast together with shapes (3,2) (2,3) ",
     "output_type": "error",
     "traceback": [
      "\u001b[0;31m---------------------------------------------------------------------------\u001b[0m",
      "\u001b[0;31mValueError\u001b[0m                                Traceback (most recent call last)",
      "\u001b[0;32m/tmp/ipykernel_13550/1589695440.py\u001b[0m in \u001b[0;36m<module>\u001b[0;34m\u001b[0m\n\u001b[1;32m      1\u001b[0m \u001b[0mA\u001b[0m \u001b[0;34m=\u001b[0m \u001b[0mnp\u001b[0m\u001b[0;34m.\u001b[0m\u001b[0marray\u001b[0m\u001b[0;34m(\u001b[0m\u001b[0;34m[\u001b[0m\u001b[0;34m[\u001b[0m\u001b[0;36m1\u001b[0m\u001b[0;34m,\u001b[0m\u001b[0;36m2\u001b[0m\u001b[0;34m]\u001b[0m\u001b[0;34m,\u001b[0m\u001b[0;34m[\u001b[0m\u001b[0;36m3\u001b[0m\u001b[0;34m,\u001b[0m\u001b[0;36m4\u001b[0m\u001b[0;34m]\u001b[0m\u001b[0;34m,\u001b[0m\u001b[0;34m[\u001b[0m\u001b[0;36m5\u001b[0m\u001b[0;34m,\u001b[0m\u001b[0;36m6\u001b[0m\u001b[0;34m]\u001b[0m\u001b[0;34m]\u001b[0m\u001b[0;34m)\u001b[0m\u001b[0;34m\u001b[0m\u001b[0;34m\u001b[0m\u001b[0m\n\u001b[1;32m      2\u001b[0m \u001b[0mB\u001b[0m \u001b[0;34m=\u001b[0m \u001b[0mnp\u001b[0m\u001b[0;34m.\u001b[0m\u001b[0marray\u001b[0m\u001b[0;34m(\u001b[0m\u001b[0;34m[\u001b[0m\u001b[0;34m[\u001b[0m\u001b[0;36m2\u001b[0m\u001b[0;34m,\u001b[0m\u001b[0;36m4\u001b[0m\u001b[0;34m,\u001b[0m\u001b[0;36m6\u001b[0m\u001b[0;34m]\u001b[0m\u001b[0;34m,\u001b[0m\u001b[0;34m[\u001b[0m\u001b[0;36m1\u001b[0m\u001b[0;34m,\u001b[0m\u001b[0;36m2\u001b[0m\u001b[0;34m,\u001b[0m\u001b[0;36m3\u001b[0m\u001b[0;34m]\u001b[0m\u001b[0;34m]\u001b[0m\u001b[0;34m)\u001b[0m\u001b[0;34m\u001b[0m\u001b[0;34m\u001b[0m\u001b[0m\n\u001b[0;32m----> 3\u001b[0;31m \u001b[0mC\u001b[0m \u001b[0;34m=\u001b[0m \u001b[0mA\u001b[0m\u001b[0;34m*\u001b[0m\u001b[0mB\u001b[0m\u001b[0;34m\u001b[0m\u001b[0;34m\u001b[0m\u001b[0m\n\u001b[0m",
      "\u001b[0;31mValueError\u001b[0m: operands could not be broadcast together with shapes (3,2) (2,3) "
     ]
    }
   ],
   "source": [
    "A = np.array([[1,2],[3,4],[5,6]])\n",
    "B = np.array([[2,4,6],[1,2,3]])\n",
    "C = A*B # this tries to do element wise multiplication"
   ]
  },
  {
   "cell_type": "code",
   "execution_count": 23,
   "id": "3aafe084",
   "metadata": {},
   "outputs": [
    {
     "data": {
      "text/plain": [
       "array([[ 4,  8, 12],\n",
       "       [10, 20, 30],\n",
       "       [16, 32, 48]])"
      ]
     },
     "execution_count": 23,
     "metadata": {},
     "output_type": "execute_result"
    }
   ],
   "source": [
    "C = np.matmul(A,B) # matmul refers to matrix multiplication\n",
    "C"
   ]
  },
  {
   "cell_type": "code",
   "execution_count": 24,
   "id": "8c21a2e3",
   "metadata": {},
   "outputs": [
    {
     "ename": "ValueError",
     "evalue": "operands could not be broadcast together with shapes (2,3) (3,3) ",
     "output_type": "error",
     "traceback": [
      "\u001b[0;31m---------------------------------------------------------------------------\u001b[0m",
      "\u001b[0;31mValueError\u001b[0m                                Traceback (most recent call last)",
      "\u001b[0;32m/tmp/ipykernel_13550/2785309174.py\u001b[0m in \u001b[0;36m<module>\u001b[0;34m\u001b[0m\n\u001b[1;32m      1\u001b[0m \u001b[0;31m#Addition of arrays\u001b[0m\u001b[0;34m\u001b[0m\u001b[0;34m\u001b[0m\u001b[0m\n\u001b[0;32m----> 2\u001b[0;31m \u001b[0mprint\u001b[0m\u001b[0;34m(\u001b[0m\u001b[0mB\u001b[0m\u001b[0;34m+\u001b[0m\u001b[0mC\u001b[0m\u001b[0;34m)\u001b[0m\u001b[0;34m\u001b[0m\u001b[0;34m\u001b[0m\u001b[0m\n\u001b[0m",
      "\u001b[0;31mValueError\u001b[0m: operands could not be broadcast together with shapes (2,3) (3,3) "
     ]
    }
   ],
   "source": [
    "#Addition of arrays\n",
    "print(B+C) #error would arise as the shapes arent similar"
   ]
  },
  {
   "cell_type": "code",
   "execution_count": 27,
   "id": "1abb0e89",
   "metadata": {},
   "outputs": [
    {
     "data": {
      "text/plain": [
       "array([[ True,  True,  True],\n",
       "       [ True,  True,  True],\n",
       "       [ True,  True,  True]])"
      ]
     },
     "execution_count": 27,
     "metadata": {},
     "output_type": "execute_result"
    }
   ],
   "source": [
    "# A*(B*C) == (A*B)*C the associative property of matrices\n",
    "np.matmul(A,np.matmul(B,C)) == np.matmul(C,np.matmul(A,B))"
   ]
  },
  {
   "cell_type": "code",
   "execution_count": 28,
   "id": "67209c1b",
   "metadata": {},
   "outputs": [
    {
     "name": "stderr",
     "output_type": "stream",
     "text": [
      "/tmp/ipykernel_13550/368166871.py:1: DeprecationWarning: elementwise comparison failed; this will raise an error in the future.\n",
      "  np.matmul(A,B) == np.matmul(B,A)\n"
     ]
    },
    {
     "data": {
      "text/plain": [
       "False"
      ]
     },
     "execution_count": 28,
     "metadata": {},
     "output_type": "execute_result"
    }
   ],
   "source": [
    "#matrix multiplication is not commutative always\n",
    "# however the dot product is commutative\n",
    "np.matmul(A,B) == np.matmul(B,A)"
   ]
  },
  {
   "cell_type": "code",
   "execution_count": 35,
   "id": "3f31ff4f",
   "metadata": {},
   "outputs": [
    {
     "name": "stdout",
     "output_type": "stream",
     "text": [
      "A=[[1 2]\n",
      " [3 4]\n",
      " [5 6]]\n",
      "Transpose of A=[[1 3 5]\n",
      " [2 4 6]]\n"
     ]
    }
   ],
   "source": [
    "#Transpose of a matrix\n",
    "# transpose flips a matrix alongside its diagonal\n",
    "print(f\"A={A}\\nTranspose of A={np.transpose(A)}\")"
   ]
  },
  {
   "cell_type": "markdown",
   "id": "63612a1d",
   "metadata": {},
   "source": [
    "#### Matrix mulitiplication functions in numpy"
   ]
  },
  {
   "cell_type": "code",
   "execution_count": 42,
   "id": "c870cf57",
   "metadata": {},
   "outputs": [],
   "source": [
    "C_ = A@B\n",
    "C1 = np.dot(A,B)\n",
    "C2 = np.matmul(A,B)"
   ]
  },
  {
   "cell_type": "code",
   "execution_count": 55,
   "id": "ba6a5dad",
   "metadata": {},
   "outputs": [
    {
     "data": {
      "text/plain": [
       "array([[ True,  True,  True],\n",
       "       [ True,  True,  True],\n",
       "       [ True,  True,  True]])"
      ]
     },
     "execution_count": 55,
     "metadata": {},
     "output_type": "execute_result"
    }
   ],
   "source": [
    "C1 == C2"
   ]
  },
  {
   "cell_type": "markdown",
   "id": "cb4530f3",
   "metadata": {},
   "source": [
    "- This means that dot product and matrix multiplication is the same\n",
    "  which is not true\n",
    "- Lets dive a little further"
   ]
  },
  {
   "cell_type": "code",
   "execution_count": 40,
   "id": "a96541ef",
   "metadata": {},
   "outputs": [
    {
     "data": {
      "text/plain": [
       "(array([[ 4,  8, 12],\n",
       "        [10, 20, 30],\n",
       "        [16, 32, 48]]),\n",
       " array([[ 4,  8, 12],\n",
       "        [10, 20, 30],\n",
       "        [16, 32, 48]]),\n",
       " array([[ 4,  8, 12],\n",
       "        [10, 20, 30],\n",
       "        [16, 32, 48]]))"
      ]
     },
     "execution_count": 40,
     "metadata": {},
     "output_type": "execute_result"
    }
   ],
   "source": [
    "C_,C1,C2"
   ]
  },
  {
   "cell_type": "markdown",
   "id": "e33dd135",
   "metadata": {},
   "source": [
    "- All three functions are used for matrix multiplication (are they?)"
   ]
  },
  {
   "cell_type": "code",
   "execution_count": 43,
   "id": "39271f5a",
   "metadata": {},
   "outputs": [
    {
     "data": {
      "text/plain": [
       "array([[ 5, 12],\n",
       "       [21, 32]])"
      ]
     },
     "execution_count": 43,
     "metadata": {},
     "output_type": "execute_result"
    }
   ],
   "source": [
    "M1 = np.array([[1,2],[3,4]])\n",
    "M2 = np.array([[5,6],[7,8]])\n",
    "M3 = np.multiply(M1,M2)\n",
    "M3"
   ]
  },
  {
   "cell_type": "markdown",
   "id": "be650fef",
   "metadata": {},
   "source": [
    "- Well now it seems like even np.multiply does the same \n",
    "- np.multiply also does the same matrix multiplication\n",
    "- So where or how does all these functions differ from one another or are they same and are just referred by different names"
   ]
  },
  {
   "cell_type": "markdown",
   "id": "d5a76111",
   "metadata": {},
   "source": [
    "np.multiply is the numpy alternative to basic * in python"
   ]
  },
  {
   "cell_type": "code",
   "execution_count": 101,
   "id": "bd0c76ab",
   "metadata": {},
   "outputs": [
    {
     "data": {
      "text/plain": [
       "array([ 4, 10, 18])"
      ]
     },
     "execution_count": 101,
     "metadata": {},
     "output_type": "execute_result"
    }
   ],
   "source": [
    "A = np.array([1,2,3])\n",
    "B = np.array([4,5,6])\n",
    "np.multiply(A,B)"
   ]
  },
  {
   "cell_type": "markdown",
   "id": "18fc9245",
   "metadata": {},
   "source": [
    "- np.dot = This function is used to find the dot product of two arrays\n",
    "- If the dimension of the array is 2D or higher, make sure the number of columns of the first array matches up with the number of rows in the second array."
   ]
  },
  {
   "cell_type": "code",
   "execution_count": 44,
   "id": "d21ebfba",
   "metadata": {},
   "outputs": [
    {
     "data": {
      "text/plain": [
       "2"
      ]
     },
     "execution_count": 44,
     "metadata": {},
     "output_type": "execute_result"
    }
   ],
   "source": [
    "np.dot(1,2)"
   ]
  },
  {
   "cell_type": "code",
   "execution_count": 45,
   "id": "7951639c",
   "metadata": {},
   "outputs": [
    {
     "data": {
      "text/plain": [
       "11"
      ]
     },
     "execution_count": 45,
     "metadata": {},
     "output_type": "execute_result"
    }
   ],
   "source": [
    "np.dot([1,2],[3,4])"
   ]
  },
  {
   "cell_type": "code",
   "execution_count": 63,
   "id": "b9fb99a7",
   "metadata": {},
   "outputs": [
    {
     "ename": "ValueError",
     "evalue": "shapes (2,) and (3,) not aligned: 2 (dim 0) != 3 (dim 0)",
     "output_type": "error",
     "traceback": [
      "\u001b[0;31m---------------------------------------------------------------------------\u001b[0m",
      "\u001b[0;31mValueError\u001b[0m                                Traceback (most recent call last)",
      "\u001b[0;32m/tmp/ipykernel_13550/1187681491.py\u001b[0m in \u001b[0;36m<module>\u001b[0;34m\u001b[0m\n\u001b[0;32m----> 1\u001b[0;31m \u001b[0mnp\u001b[0m\u001b[0;34m.\u001b[0m\u001b[0mdot\u001b[0m\u001b[0;34m(\u001b[0m\u001b[0;34m[\u001b[0m\u001b[0;36m1\u001b[0m\u001b[0;34m,\u001b[0m\u001b[0;36m2\u001b[0m\u001b[0;34m]\u001b[0m\u001b[0;34m,\u001b[0m\u001b[0;34m[\u001b[0m\u001b[0;36m2\u001b[0m\u001b[0;34m,\u001b[0m\u001b[0;36m3\u001b[0m\u001b[0;34m,\u001b[0m\u001b[0;36m4\u001b[0m\u001b[0;34m]\u001b[0m\u001b[0;34m)\u001b[0m\u001b[0;34m\u001b[0m\u001b[0;34m\u001b[0m\u001b[0m\n\u001b[0m",
      "\u001b[0;32m<__array_function__ internals>\u001b[0m in \u001b[0;36mdot\u001b[0;34m(*args, **kwargs)\u001b[0m\n",
      "\u001b[0;31mValueError\u001b[0m: shapes (2,) and (3,) not aligned: 2 (dim 0) != 3 (dim 0)"
     ]
    }
   ],
   "source": [
    "np.dot([1,2],[2,3,4])"
   ]
  },
  {
   "cell_type": "markdown",
   "id": "ae083359",
   "metadata": {},
   "source": [
    "- Hence we can tell that np.dot can take place only when the dimensions of the vectors or the matrices are same."
   ]
  },
  {
   "cell_type": "markdown",
   "id": "b935d133",
   "metadata": {},
   "source": [
    "The difference between matrix multiplication and dot products needs to be understood.\n",
    "\n",
    "In dot product\n",
    "- It is an algebraic operation that takes two same-sized vectors and returns a single number.\n",
    "\n",
    "In matrix multiplication\n",
    "- This is a matrix version of a dot product.\n",
    "- Simply the dot product repeated as many times as needed.\n",
    "- Result of a matrix multiplication is a matrix.\n",
    "- Where the resulted matrix consists of elements whose elements are dot products of pairs of vectors in each matrix."
   ]
  },
  {
   "cell_type": "code",
   "execution_count": 70,
   "id": "3dd115db",
   "metadata": {},
   "outputs": [
    {
     "data": {
      "text/plain": [
       "array([[ 9, 12, 15],\n",
       "       [19, 26, 33],\n",
       "       [29, 40, 51],\n",
       "       [39, 54, 69]])"
      ]
     },
     "execution_count": 70,
     "metadata": {},
     "output_type": "execute_result"
    }
   ],
   "source": [
    "A = [[1,2],[3,4],[5,6],[7,8]]\n",
    "B = [[1,2,3],[4,5,6]]\n",
    "C = np.matmul(A,B)\n",
    "C"
   ]
  },
  {
   "cell_type": "code",
   "execution_count": 71,
   "id": "f6bce981",
   "metadata": {},
   "outputs": [
    {
     "data": {
      "text/plain": [
       "array([[ 9, 12, 15],\n",
       "       [19, 26, 33],\n",
       "       [29, 40, 51],\n",
       "       [39, 54, 69]])"
      ]
     },
     "execution_count": 71,
     "metadata": {},
     "output_type": "execute_result"
    }
   ],
   "source": [
    "C = np.dot(A,B)\n",
    "C"
   ]
  },
  {
   "cell_type": "markdown",
   "id": "fe02a818",
   "metadata": {},
   "source": [
    "- From the above two cells we are able to infer that both <b>np.dot</b> and <b>np.matmul</b> gives the same results\n",
    "- Which means they are the same !\n",
    "- But they aren't ...\n",
    "\n",
    "<b>matmul differs from dot in two important ways:</b>\n",
    "\n",
    "- <b>Multiplication by scalars is not allowed</b> use * instead.\n",
    "\n",
    "- Stacks of matrices are broadcast together as if the matrices were elements"
   ]
  },
  {
   "cell_type": "code",
   "execution_count": 76,
   "id": "023afb0b",
   "metadata": {},
   "outputs": [
    {
     "data": {
      "text/plain": [
       "False"
      ]
     },
     "execution_count": 76,
     "metadata": {},
     "output_type": "execute_result"
    }
   ],
   "source": [
    "a = np.ones([9, 5, 7, 4])\n",
    "# 9 elements in 1D , 5 elements in 2D , 7 in 3D , 4 IN 4D\n",
    "c = np.ones([9, 5, 4, 3])\n",
    "np.dot(a,c).shape == np.matmul(a,c).shape"
   ]
  },
  {
   "cell_type": "code",
   "execution_count": 80,
   "id": "d7c02e32",
   "metadata": {},
   "outputs": [
    {
     "name": "stdout",
     "output_type": "stream",
     "text": [
      "(9, 5, 7, 9, 5, 3)\n",
      "(9, 5, 7, 3)\n"
     ]
    }
   ],
   "source": [
    "print(np.dot(a,c).shape)\n",
    "print(np.matmul(a,c).shape)"
   ]
  },
  {
   "cell_type": "markdown",
   "id": "8bd6cd9c",
   "metadata": {},
   "source": [
    "- Here we get to see .dot produces a 6d array whereas .matmul produces a 4d array\n",
    "- Simply put in the normal matrix multiplication situation where we want to treat each stack of matrices in the last two indexes, we should use matmul"
   ]
  },
  {
   "cell_type": "markdown",
   "id": "5f5efc97",
   "metadata": {},
   "source": [
    "Summing it up\n",
    "- '*' == ```np.multiply``` != ```np.dot``` != ```np.matmul```\n",
    "- ```np.multiply``` needs to be used with ```np.sum``` to perform dot product\n",
    "- ```np.dot``` can be used for dot product and matrix multiplication however not recommended for matrix multiplication\n",
    "- ```np.matmul``` or ```@``` can be used for matrix multiplication"
   ]
  },
  {
   "cell_type": "markdown",
   "id": "4a200213",
   "metadata": {},
   "source": [
    "### 2.3 Identity and Inverse Matrices"
   ]
  },
  {
   "cell_type": "code",
   "execution_count": 103,
   "id": "ec50e72e",
   "metadata": {},
   "outputs": [
    {
     "data": {
      "text/plain": [
       "array([[-11, -16],\n",
       "       [-19, -28]])"
      ]
     },
     "execution_count": 103,
     "metadata": {},
     "output_type": "execute_result"
    }
   ],
   "source": [
    "A = np.array([[1,2],[3,4]])\n",
    "Identity = np.matmul(np.invert(A),A) # you dont use the invert function to calculate the inverse\n",
    "Identity "
   ]
  },
  {
   "cell_type": "code",
   "execution_count": 105,
   "id": "b9b0c399",
   "metadata": {},
   "outputs": [
    {
     "data": {
      "text/plain": [
       "array([[1.0000000e+00, 4.4408921e-16],\n",
       "       [0.0000000e+00, 1.0000000e+00]])"
      ]
     },
     "execution_count": 105,
     "metadata": {},
     "output_type": "execute_result"
    }
   ],
   "source": [
    "Identity = np.matmul(np.linalg.inv(A),A) \n",
    "Identity # it still isnt the identity matrix , cause of the multiplication processes (float values are never really the same)"
   ]
  },
  {
   "cell_type": "markdown",
   "id": "144f1336",
   "metadata": {},
   "source": [
    "### <b>2.4 Linear Dependence and Span:</b>"
   ]
  },
  {
   "cell_type": "markdown",
   "id": "46f7f9d4",
   "metadata": {},
   "source": [
    "For A^-1 to exist there must be exactly one solution for every value of b where\n",
    "x = inv(A)*b\n",
    "\n",
    "The span of a set of vectors is the set of all points obtainable by linear combination of the original vectors"
   ]
  },
  {
   "cell_type": "code",
   "execution_count": 49,
   "id": "c4185b23",
   "metadata": {},
   "outputs": [
    {
     "data": {
      "text/plain": [
       "array([2., 3., 1.])"
      ]
     },
     "execution_count": 49,
     "metadata": {},
     "output_type": "execute_result"
    }
   ],
   "source": [
    "#linear combination\n",
    "v1 = np.array([0, 0, 1])\n",
    "v2 = np.array([1,0,0])\n",
    "v3 = np.array([0, 1, 0])\n",
    "X = ([v1,v2,v3])\n",
    "y = ([1,2,3])\n",
    "scalars = np.linalg.solve(X,y) #v1*1 + v2*2 + v3*3 is the linear combination \n",
    "scalars"
   ]
  },
  {
   "cell_type": "markdown",
   "id": "8c985288",
   "metadata": {},
   "source": [
    "### <b>2.5 Norm:</b>\n",
    "\n",
    "The size of vectors are found by using a function called norm.\n",
    "- The default norm is L2 (eucledian norm), denoted by ||x||\n",
    "- The maximum norm is used to find the absolute value of the vector with the largest magnitude\n",
    "- The frobenius norm is used to measure the size of the matrix"
   ]
  },
  {
   "cell_type": "code",
   "execution_count": 112,
   "id": "abeada14",
   "metadata": {},
   "outputs": [
    {
     "name": "stdout",
     "output_type": "stream",
     "text": [
      "3.7416573867739413\n",
      "3.0\n"
     ]
    }
   ],
   "source": [
    "A = np.array([1,2,3])\n",
    "norm1 = np.linalg.norm(A) #defualt it takes L2 norm , we can also specify the norm \n",
    "norm2 = np.linalg.norm(A,ord=np.inf)\n",
    "#norm3 = np.linalg.norm(A,ord='fro') #results in error\n",
    "# as frobenius norm is calculated for matrices and not vectors\n",
    "print(norm1)\n",
    "print(norm2)\n",
    "#print(norm3)"
   ]
  },
  {
   "cell_type": "code",
   "execution_count": 113,
   "id": "8380118e",
   "metadata": {},
   "outputs": [
    {
     "name": "stdout",
     "output_type": "stream",
     "text": [
      "9.539392014169456\n"
     ]
    }
   ],
   "source": [
    "B = np.array([[1,2,3],[4,5,6]])\n",
    "norm3 = np.linalg.norm(B,ord=\"fro\")\n",
    "print(norm3)"
   ]
  },
  {
   "cell_type": "markdown",
   "id": "a13304af",
   "metadata": {},
   "source": [
    "### <b>2.6 Special Kinds of matrices and Vectors</b>"
   ]
  },
  {
   "cell_type": "markdown",
   "id": "7063f29a",
   "metadata": {},
   "source": [
    "- Diagonal matrix\n",
    "- Symmetric matrix -  the transpose of matrix is same as the matrix then its symmetric \n",
    "- Unit matrix\n",
    "- Orthonormal matrix\n",
    "- Orthogonal matrix"
   ]
  },
  {
   "cell_type": "code",
   "execution_count": 114,
   "id": "cae4f754",
   "metadata": {},
   "outputs": [
    {
     "data": {
      "text/plain": [
       "array([[1., 1.],\n",
       "       [1., 1.]])"
      ]
     },
     "execution_count": 114,
     "metadata": {},
     "output_type": "execute_result"
    }
   ],
   "source": [
    "np.ones([2,2])"
   ]
  },
  {
   "cell_type": "code",
   "execution_count": 115,
   "id": "79183d31",
   "metadata": {},
   "outputs": [
    {
     "data": {
      "text/plain": [
       "array([[1., 0., 0., 0.],\n",
       "       [0., 1., 0., 0.],\n",
       "       [0., 0., 1., 0.],\n",
       "       [0., 0., 0., 1.]])"
      ]
     },
     "execution_count": 115,
     "metadata": {},
     "output_type": "execute_result"
    }
   ],
   "source": [
    "I = np.identity(4)\n",
    "I"
   ]
  },
  {
   "cell_type": "code",
   "execution_count": 116,
   "id": "df7f1375",
   "metadata": {},
   "outputs": [
    {
     "data": {
      "text/plain": [
       "array([1., 1., 1., 1.])"
      ]
     },
     "execution_count": 116,
     "metadata": {},
     "output_type": "execute_result"
    }
   ],
   "source": [
    "np.diag(I)"
   ]
  },
  {
   "cell_type": "markdown",
   "id": "e6220bcf",
   "metadata": {},
   "source": [
    "- A vector x and y are orthogonal to each other if xTy=0\n",
    "- If the vectors not only are orthogonal but also have unit norm, we call them orthonormal.\n",
    "- An orthogonal matrix is a square matrix whose rows are mutually orthonormal and whose columns are mutually orthonormal."
   ]
  },
  {
   "cell_type": "markdown",
   "id": "d6418009",
   "metadata": {},
   "source": [
    "### <b>2.7 Eigen Decomposition:</b>\n",
    "- Matrix is decomposed into set of eigenvalues and eigenvectors.\n",
    "- Av = λv , where v is the eigenvector and λ is the eigenvalue."
   ]
  },
  {
   "cell_type": "code",
   "execution_count": 117,
   "id": "3a80c151",
   "metadata": {},
   "outputs": [
    {
     "data": {
      "text/plain": [
       "array([ 2.25928832+0.j       ,  0.64688344+0.j       ,\n",
       "       -0.10298774+0.1777758j, -0.10298774-0.1777758j,\n",
       "        0.11169926+0.j       ])"
      ]
     },
     "execution_count": 117,
     "metadata": {},
     "output_type": "execute_result"
    }
   ],
   "source": [
    "A = np.random.rand(5,5)\n",
    "eig_val = np.linalg.eigvals(A)\n",
    "eig_val #eigenvalue"
   ]
  },
  {
   "cell_type": "code",
   "execution_count": 118,
   "id": "e297fab3",
   "metadata": {},
   "outputs": [
    {
     "data": {
      "text/plain": [
       "array([[ 0.3559964 +0.j        ,  0.54323152+0.j        ,\n",
       "         0.10042369-0.12050135j,  0.10042369+0.12050135j,\n",
       "         0.00462908+0.j        ],\n",
       "       [ 0.33774481+0.j        , -0.39532763+0.j        ,\n",
       "         0.68924997+0.j        ,  0.68924997-0.j        ,\n",
       "        -0.83210198+0.j        ],\n",
       "       [ 0.38237906+0.j        , -0.27375315+0.j        ,\n",
       "        -0.6082103 +0.14308088j, -0.6082103 -0.14308088j,\n",
       "        -0.37034549+0.j        ],\n",
       "       [ 0.52283658+0.j        , -0.66226292+0.j        ,\n",
       "         0.1009537 -0.13286063j,  0.1009537 +0.13286063j,\n",
       "         0.14307614+0.j        ],\n",
       "       [ 0.58277198+0.j        ,  0.18730356+0.j        ,\n",
       "         0.26582772+0.10690699j,  0.26582772-0.10690699j,\n",
       "         0.38724449+0.j        ]])"
      ]
     },
     "execution_count": 118,
     "metadata": {},
     "output_type": "execute_result"
    }
   ],
   "source": [
    "eig_val,eig_vec = np.linalg.eig(A)\n",
    "eig_vec #eigen vector"
   ]
  },
  {
   "cell_type": "markdown",
   "id": "796519fc",
   "metadata": {},
   "source": [
    "### <b>2.8 Single Value Decomposition:</b>\n",
    "- If a matrix is not square then we should use this method instead of eigen decomposition as it is not defined"
   ]
  },
  {
   "cell_type": "code",
   "execution_count": 5,
   "id": "de8687ff",
   "metadata": {},
   "outputs": [
    {
     "data": {
      "text/plain": [
       "array([[ 0,  1,  2,  3,  4,  5],\n",
       "       [ 6,  7,  8,  9, 10, 11],\n",
       "       [12, 13, 14, 15, 16, 17],\n",
       "       [18, 19, 20, 21, 22, 23]])"
      ]
     },
     "execution_count": 5,
     "metadata": {},
     "output_type": "execute_result"
    }
   ],
   "source": [
    "A = np.arange(24).reshape(4,6)\n",
    "A"
   ]
  },
  {
   "cell_type": "code",
   "execution_count": 9,
   "id": "0b7ec562",
   "metadata": {},
   "outputs": [
    {
     "name": "stdout",
     "output_type": "stream",
     "text": [
      "U= [[-0.09979291 -0.83068729 -0.44166769 -0.32392846]\n",
      " [-0.32237784 -0.44280078  0.34744824  0.76110428]\n",
      " [-0.54496277 -0.05491426  0.63010661 -0.55042317]\n",
      " [-0.76754771  0.33297225 -0.53588715  0.11324735]] \n",
      " s= [6.56235089e+01 4.18987869e+00 2.92322821e-15 8.22506300e-16] \n",
      " vh= [[-0.33965997 -0.36609381 -0.39252765 -0.41896148 -0.44539532 -0.47182916]\n",
      " [ 0.6390936   0.40151391  0.16393422 -0.07364547 -0.31122516 -0.54880485]\n",
      " [ 0.66952298 -0.55398193 -0.18599188 -0.28491678 -0.00387801  0.35924562]\n",
      " [ 0.0332819  -0.42916808  0.29364362  0.01097679  0.64737838 -0.55611261]\n",
      " [ 0.12437969  0.31988869 -0.80745574  0.02972545  0.46146314 -0.12800122]\n",
      " [-0.10654323  0.33369434  0.21504253 -0.85840897  0.26962913  0.1465862 ]]\n"
     ]
    }
   ],
   "source": [
    "U,s,vh = np.linalg.svd(A,full_matrices=True) #full_matrices is optional\n",
    "print(\"U=\",U,\"\\n\",\"s=\",s,\"\\n\",\"vh=\",vh)"
   ]
  },
  {
   "cell_type": "markdown",
   "id": "56412af8",
   "metadata": {},
   "source": [
    "### <b>2.9 Moore-Penrose Pseudoinverse:</b>\n",
    "- Used to find the inverse of non invertible matrices.\n",
    "- Inverse to used to solve a system of equations.\n",
    "- therefore by using this we will be able to find a value which is almost the solution."
   ]
  },
  {
   "cell_type": "code",
   "execution_count": 17,
   "id": "1c5e6118",
   "metadata": {},
   "outputs": [
    {
     "data": {
      "text/plain": [
       "array([[0, 1, 2],\n",
       "       [3, 4, 5]])"
      ]
     },
     "execution_count": 17,
     "metadata": {},
     "output_type": "execute_result"
    }
   ],
   "source": [
    "M = np.arange(6).reshape(2,3)\n",
    "M"
   ]
  },
  {
   "cell_type": "code",
   "execution_count": 18,
   "id": "5b08b747",
   "metadata": {},
   "outputs": [
    {
     "data": {
      "text/plain": [
       "array([[-0.77777778,  0.27777778],\n",
       "       [-0.11111111,  0.11111111],\n",
       "       [ 0.55555556, -0.05555556]])"
      ]
     },
     "execution_count": 18,
     "metadata": {},
     "output_type": "execute_result"
    }
   ],
   "source": [
    "#moore penrose pseudo inverse\n",
    "M1 = np.linalg.pinv(M)\n",
    "M1"
   ]
  },
  {
   "cell_type": "code",
   "execution_count": 21,
   "id": "9d1b0568",
   "metadata": {},
   "outputs": [
    {
     "data": {
      "text/plain": [
       "array([[ 0.83333333,  0.33333333, -0.16666667],\n",
       "       [ 0.33333333,  0.33333333,  0.33333333],\n",
       "       [-0.16666667,  0.33333333,  0.83333333]])"
      ]
     },
     "execution_count": 21,
     "metadata": {},
     "output_type": "execute_result"
    }
   ],
   "source": [
    "M1.dot(M) #which gives a result which is quite close to the pseudo inverse."
   ]
  },
  {
   "cell_type": "markdown",
   "id": "f0385e67",
   "metadata": {},
   "source": [
    "### <b>2.10 Trace Operator:</b>\n",
    "- Trace is the sum of all the elements in the diagonal of the square matrix.\n",
    "- trace of matrix is equal to its transpose"
   ]
  },
  {
   "cell_type": "code",
   "execution_count": 26,
   "id": "35c9cdac",
   "metadata": {},
   "outputs": [
    {
     "data": {
      "text/plain": [
       "array([[0, 1, 2],\n",
       "       [3, 4, 5],\n",
       "       [6, 7, 8]])"
      ]
     },
     "execution_count": 26,
     "metadata": {},
     "output_type": "execute_result"
    }
   ],
   "source": [
    "M2 = np.arange(9).reshape(3,3)\n",
    "M2"
   ]
  },
  {
   "cell_type": "code",
   "execution_count": 27,
   "id": "5c276003",
   "metadata": {},
   "outputs": [
    {
     "data": {
      "text/plain": [
       "12"
      ]
     },
     "execution_count": 27,
     "metadata": {},
     "output_type": "execute_result"
    }
   ],
   "source": [
    "trace1 = M2.trace()\n",
    "trace1"
   ]
  },
  {
   "cell_type": "markdown",
   "id": "edeeaa79",
   "metadata": {},
   "source": [
    "### <b>2.11 Determinant:</b>\n",
    "- it is equal to the products of all the eigenvalues in the matrices.\n",
    "- The determinant lets us know about the transformations of the matrix."
   ]
  },
  {
   "cell_type": "code",
   "execution_count": 28,
   "id": "d0b18772",
   "metadata": {},
   "outputs": [
    {
     "data": {
      "text/plain": [
       "array([[1., 1.],\n",
       "       [1., 1.]])"
      ]
     },
     "execution_count": 28,
     "metadata": {},
     "output_type": "execute_result"
    }
   ],
   "source": [
    "A = np.ones(4).reshape(2,2)\n",
    "A"
   ]
  },
  {
   "cell_type": "code",
   "execution_count": 30,
   "id": "938ae743",
   "metadata": {},
   "outputs": [
    {
     "data": {
      "text/plain": [
       "0.0"
      ]
     },
     "execution_count": 30,
     "metadata": {},
     "output_type": "execute_result"
    }
   ],
   "source": [
    "A_det = np.linalg.det(A)\n",
    "A_det"
   ]
  },
  {
   "cell_type": "markdown",
   "id": "35d77446",
   "metadata": {},
   "source": [
    "### <b>2.12 Principal Component Analysis:</b>\n",
    "\n",
    "- Dimensions refers to the number of features in a dataset.\n",
    "- The aim of PCA is to reduce the number of dimensions in the dataset while also retaining important information.\n",
    "\n",
    "Steps to calculate PCA:\n",
    "- Normalization of the data\n",
    "- Computing the covariance matrix\n",
    "- Calculating the eigenvectors and eigenvalues\n",
    "- Computing the Principal Components\n",
    "- Reprojecting the data\n",
    "\n",
    "Let us try to manually calculate PCA using numpy"
   ]
  },
  {
   "cell_type": "code",
   "execution_count": 32,
   "id": "20daf514",
   "metadata": {},
   "outputs": [
    {
     "data": {
      "text/plain": [
       "array([[ 0,  1,  2],\n",
       "       [ 3,  4,  5],\n",
       "       [ 6,  7,  8],\n",
       "       [ 9, 10, 11]])"
      ]
     },
     "execution_count": 32,
     "metadata": {},
     "output_type": "execute_result"
    }
   ],
   "source": [
    "M = np.arange(12).reshape(4,3) #defining the data \n",
    "M"
   ]
  },
  {
   "cell_type": "code",
   "execution_count": 34,
   "id": "90236a37",
   "metadata": {},
   "outputs": [
    {
     "data": {
      "text/plain": [
       "array([4.5, 5.5, 6.5])"
      ]
     },
     "execution_count": 34,
     "metadata": {},
     "output_type": "execute_result"
    }
   ],
   "source": [
    "M_mean = np.mean(M.T, axis=1)#calculate the mean of each column\n",
    "M_mean"
   ]
  },
  {
   "cell_type": "code",
   "execution_count": 35,
   "id": "d827b4ac",
   "metadata": {},
   "outputs": [
    {
     "data": {
      "text/plain": [
       "array([[-4.5, -4.5, -4.5],\n",
       "       [-1.5, -1.5, -1.5],\n",
       "       [ 1.5,  1.5,  1.5],\n",
       "       [ 4.5,  4.5,  4.5]])"
      ]
     },
     "execution_count": 35,
     "metadata": {},
     "output_type": "execute_result"
    }
   ],
   "source": [
    "M_center = M - M_mean #centering the columns by subtracting column means\n",
    "M_center"
   ]
  },
  {
   "cell_type": "code",
   "execution_count": 36,
   "id": "d3d6694a",
   "metadata": {},
   "outputs": [
    {
     "data": {
      "text/plain": [
       "array([[15., 15., 15.],\n",
       "       [15., 15., 15.],\n",
       "       [15., 15., 15.]])"
      ]
     },
     "execution_count": 36,
     "metadata": {},
     "output_type": "execute_result"
    }
   ],
   "source": [
    "M_cov = np.cov(M_center.T)# covariance matrix of the centered matrix\n",
    "M_cov"
   ]
  },
  {
   "cell_type": "code",
   "execution_count": 37,
   "id": "8785909c",
   "metadata": {},
   "outputs": [
    {
     "name": "stdout",
     "output_type": "stream",
     "text": [
      "Eigenvalues=[ 4.50000000e+01 -9.86076132e-32 -1.56070767e-15]\n",
      "Eigenvectors=[[ 5.77350269e-01 -8.21529965e-17  7.46872987e-01]\n",
      " [ 5.77350269e-01 -7.07106781e-01 -6.59155859e-01]\n",
      " [ 5.77350269e-01  7.07106781e-01 -8.77171288e-02]]\n"
     ]
    }
   ],
   "source": [
    "eig_val,eig_vec = np.linalg.eig(M_cov) # finding the eigenvalues and eigenvectors\n",
    "print(f\"Eigenvalues={eig_val}\\nEigenvectors={eig_vec}\")"
   ]
  },
  {
   "cell_type": "code",
   "execution_count": 41,
   "id": "bb053f28",
   "metadata": {},
   "outputs": [
    {
     "data": {
      "text/plain": [
       "array([[-7.79422863e+00,  1.66533454e-16, -6.24500451e-16],\n",
       "       [-2.59807621e+00,  5.55111512e-17, -2.08166817e-16],\n",
       "       [ 2.59807621e+00, -5.55111512e-17,  2.08166817e-16],\n",
       "       [ 7.79422863e+00, -1.66533454e-16,  6.24500451e-16]])"
      ]
     },
     "execution_count": 41,
     "metadata": {},
     "output_type": "execute_result"
    }
   ],
   "source": [
    "#projecting the reduced data\n",
    "M_red = eig_vec.T.dot(M_center.T)\n",
    "M_red.T # transposing the matrix for easier understanding"
   ]
  },
  {
   "cell_type": "markdown",
   "id": "32f6a2c6",
   "metadata": {},
   "source": [
    "- Calculating PCA usign sklearn"
   ]
  },
  {
   "cell_type": "code",
   "execution_count": 42,
   "id": "4c685ba8",
   "metadata": {},
   "outputs": [
    {
     "data": {
      "text/plain": [
       "array([[ 7.79422863e+00, -1.69309011e-15,  2.77555756e-16],\n",
       "       [ 2.59807621e+00, -6.38378239e-16,  1.66533454e-16],\n",
       "       [-2.59807621e+00,  6.38378239e-16, -1.66533454e-16],\n",
       "       [-7.79422863e+00,  1.69309011e-15, -2.77555756e-16]])"
      ]
     },
     "execution_count": 42,
     "metadata": {},
     "output_type": "execute_result"
    }
   ],
   "source": [
    "from sklearn.decomposition import PCA\n",
    "pca = PCA(3) # creating an instance\n",
    "pca.fit(M)\n",
    "M_red1 = pca.transform(M)\n",
    "M_red1"
   ]
  },
  {
   "cell_type": "markdown",
   "id": "208ae188",
   "metadata": {},
   "source": [
    "- Here we get to see with minor changes we get to achieve the same reduced data using both methods."
   ]
  }
 ],
 "metadata": {
  "kernelspec": {
   "display_name": "Python 3 (ipykernel)",
   "language": "python",
   "name": "python3"
  },
  "language_info": {
   "codemirror_mode": {
    "name": "ipython",
    "version": 3
   },
   "file_extension": ".py",
   "mimetype": "text/x-python",
   "name": "python",
   "nbconvert_exporter": "python",
   "pygments_lexer": "ipython3",
   "version": "3.9.12"
  }
 },
 "nbformat": 4,
 "nbformat_minor": 5
}
